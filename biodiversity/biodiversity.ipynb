{
 "cells": [
  {
   "cell_type": "markdown",
   "metadata": {},
   "source": [
    "# Capstone 2: Biodiversity Project"
   ]
  },
  {
   "cell_type": "markdown",
   "metadata": {},
   "source": [
    "# Introduction\n",
    "You are a biodiversity analyst working for the National Parks Service.  You're going to help them analyze some data about species at various national parks.\n",
    "\n",
    "Note: The data that you'll be working with for this project is *inspired* by real data, but is mostly fictional."
   ]
  },
  {
   "cell_type": "markdown",
   "metadata": {},
   "source": [
    "# Step 1\n",
    "Import the modules that you'll be using in this assignment:\n"
   ]
  },
  {
   "cell_type": "code",
   "execution_count": 3,
   "metadata": {
    "collapsed": true
   },
   "outputs": [],
   "source": [
    "from matplotlib import pyplot as plt\n",
    "import pandas as pd\n",
    "import seaborn as sns\n",
    "import numpy as np\n"
   ]
  },
  {
   "cell_type": "markdown",
   "metadata": {},
   "source": [
    "# Step 2\n",
    "You have been given two CSV files. `species_info.csv` with data about different species in our National Parks, including:\n",
    "- The scientific name of each species\n",
    "- The common names of each species\n",
    "- The species conservation status\n",
    "\n",
    "Load the dataset and inspect it:\n",
    "- Load `species_info.csv` into a DataFrame called `species`"
   ]
  },
  {
   "cell_type": "code",
   "execution_count": 114,
   "metadata": {
    "collapsed": true
   },
   "outputs": [],
   "source": [
    "species = pd.read_csv('species_info.csv')"
   ]
  },
  {
   "cell_type": "markdown",
   "metadata": {},
   "source": [
    "Inspect each DataFrame using `.head()`."
   ]
  },
  {
   "cell_type": "code",
   "execution_count": 5,
   "metadata": {
    "collapsed": true
   },
   "outputs": [
    {
     "data": {
      "text/plain": "            category                scientific_name  \\\n0             Mammal  Clethrionomys gapperi gapperi   \n1             Mammal                      Bos bison   \n2             Mammal                     Bos taurus   \n3             Mammal                     Ovis aries   \n4             Mammal                 Cervus elaphus   \n...              ...                            ...   \n5819  Vascular Plant               Solanum parishii   \n5820  Vascular Plant                  Solanum xanti   \n5821  Vascular Plant         Parthenocissus vitacea   \n5822  Vascular Plant              Vitis californica   \n5823  Vascular Plant            Tribulus terrestris   \n\n                                           common_names conservation_status  \n0                              Gapper's Red-Backed Vole                 NaN  \n1                                 American Bison, Bison                 NaN  \n2     Aurochs, Aurochs, Domestic Cattle (Feral), Dom...                 NaN  \n3     Domestic Sheep, Mouflon, Red Sheep, Sheep (Feral)                 NaN  \n4                                         Wapiti Or Elk                 NaN  \n...                                                 ...                 ...  \n5819                                Parish's Nightshade                 NaN  \n5820            Chaparral Nightshade, Purple Nightshade                 NaN  \n5821        Thicket Creeper, Virginia Creeper, Woodbine                 NaN  \n5822            California Grape, California Wild Grape                 NaN  \n5823  Bullhead, Caltrop, Goathead, Mexican Sandbur, ...                 NaN  \n\n[5824 rows x 4 columns]",
      "text/html": "<div>\n<style scoped>\n    .dataframe tbody tr th:only-of-type {\n        vertical-align: middle;\n    }\n\n    .dataframe tbody tr th {\n        vertical-align: top;\n    }\n\n    .dataframe thead th {\n        text-align: right;\n    }\n</style>\n<table border=\"1\" class=\"dataframe\">\n  <thead>\n    <tr style=\"text-align: right;\">\n      <th></th>\n      <th>category</th>\n      <th>scientific_name</th>\n      <th>common_names</th>\n      <th>conservation_status</th>\n    </tr>\n  </thead>\n  <tbody>\n    <tr>\n      <th>0</th>\n      <td>Mammal</td>\n      <td>Clethrionomys gapperi gapperi</td>\n      <td>Gapper's Red-Backed Vole</td>\n      <td>NaN</td>\n    </tr>\n    <tr>\n      <th>1</th>\n      <td>Mammal</td>\n      <td>Bos bison</td>\n      <td>American Bison, Bison</td>\n      <td>NaN</td>\n    </tr>\n    <tr>\n      <th>2</th>\n      <td>Mammal</td>\n      <td>Bos taurus</td>\n      <td>Aurochs, Aurochs, Domestic Cattle (Feral), Dom...</td>\n      <td>NaN</td>\n    </tr>\n    <tr>\n      <th>3</th>\n      <td>Mammal</td>\n      <td>Ovis aries</td>\n      <td>Domestic Sheep, Mouflon, Red Sheep, Sheep (Feral)</td>\n      <td>NaN</td>\n    </tr>\n    <tr>\n      <th>4</th>\n      <td>Mammal</td>\n      <td>Cervus elaphus</td>\n      <td>Wapiti Or Elk</td>\n      <td>NaN</td>\n    </tr>\n    <tr>\n      <th>...</th>\n      <td>...</td>\n      <td>...</td>\n      <td>...</td>\n      <td>...</td>\n    </tr>\n    <tr>\n      <th>5819</th>\n      <td>Vascular Plant</td>\n      <td>Solanum parishii</td>\n      <td>Parish's Nightshade</td>\n      <td>NaN</td>\n    </tr>\n    <tr>\n      <th>5820</th>\n      <td>Vascular Plant</td>\n      <td>Solanum xanti</td>\n      <td>Chaparral Nightshade, Purple Nightshade</td>\n      <td>NaN</td>\n    </tr>\n    <tr>\n      <th>5821</th>\n      <td>Vascular Plant</td>\n      <td>Parthenocissus vitacea</td>\n      <td>Thicket Creeper, Virginia Creeper, Woodbine</td>\n      <td>NaN</td>\n    </tr>\n    <tr>\n      <th>5822</th>\n      <td>Vascular Plant</td>\n      <td>Vitis californica</td>\n      <td>California Grape, California Wild Grape</td>\n      <td>NaN</td>\n    </tr>\n    <tr>\n      <th>5823</th>\n      <td>Vascular Plant</td>\n      <td>Tribulus terrestris</td>\n      <td>Bullhead, Caltrop, Goathead, Mexican Sandbur, ...</td>\n      <td>NaN</td>\n    </tr>\n  </tbody>\n</table>\n<p>5824 rows × 4 columns</p>\n</div>"
     },
     "execution_count": 5,
     "metadata": {},
     "output_type": "execute_result"
    }
   ],
   "source": [
    "species\n"
   ]
  },
  {
   "cell_type": "markdown",
   "metadata": {},
   "source": [
    "# Step 3\n",
    "Let's start by learning a bit more about our data."
   ]
  },
  {
   "cell_type": "code",
   "execution_count": 6,
   "outputs": [
    {
     "name": "stdout",
     "output_type": "stream",
     "text": [
      "<class 'pandas.core.frame.DataFrame'>\n",
      "RangeIndex: 5824 entries, 0 to 5823\n",
      "Data columns (total 4 columns):\n",
      " #   Column               Non-Null Count  Dtype \n",
      "---  ------               --------------  ----- \n",
      " 0   category             5824 non-null   object\n",
      " 1   scientific_name      5824 non-null   object\n",
      " 2   common_names         5824 non-null   object\n",
      " 3   conservation_status  191 non-null    object\n",
      "dtypes: object(4)\n",
      "memory usage: 182.1+ KB\n"
     ]
    }
   ],
   "source": [
    "species.info()"
   ],
   "metadata": {
    "collapsed": false,
    "pycharm": {
     "name": "#%%\n"
    }
   }
  },
  {
   "cell_type": "code",
   "execution_count": 9,
   "metadata": {
    "collapsed": true
   },
   "outputs": [
    {
     "data": {
      "text/plain": "array(['Clethrionomys gapperi gapperi', 'Bos bison', 'Bos taurus', ...,\n       'Parthenocissus vitacea', 'Vitis californica',\n       'Tribulus terrestris'], dtype=object)"
     },
     "execution_count": 9,
     "metadata": {},
     "output_type": "execute_result"
    }
   ],
   "source": [
    "species.species.info().unique()"
   ]
  },
  {
   "cell_type": "code",
   "execution_count": 10,
   "metadata": {
    "collapsed": true
   },
   "outputs": [
    {
     "data": {
      "text/plain": "array(['Clethrionomys gapperi gapperi', 'Bos bison', 'Bos taurus', ...,\n       'Parthenocissus vitacea', 'Vitis californica',\n       'Tribulus terrestris'], dtype=object)"
     },
     "execution_count": 10,
     "metadata": {},
     "output_type": "execute_result"
    }
   ],
   "source": [
    "species.scientific_name.unique()"
   ]
  },
  {
   "cell_type": "code",
   "execution_count": 11,
   "metadata": {
    "collapsed": true
   },
   "outputs": [
    {
     "data": {
      "text/plain": "array([\"Gapper's Red-Backed Vole\", 'American Bison, Bison',\n       'Aurochs, Aurochs, Domestic Cattle (Feral), Domesticated Cattle',\n       ..., 'Thicket Creeper, Virginia Creeper, Woodbine',\n       'California Grape, California Wild Grape',\n       'Bullhead, Caltrop, Goathead, Mexican Sandbur, Puncture Vine, Texas Sandbur'],\n      dtype=object)"
     },
     "execution_count": 11,
     "metadata": {},
     "output_type": "execute_result"
    }
   ],
   "source": [
    "species.common_names.unique()"
   ]
  },
  {
   "cell_type": "code",
   "execution_count": 12,
   "outputs": [
    {
     "data": {
      "text/plain": "array([nan, 'Species of Concern', 'Endangered', 'Threatened',\n       'In Recovery'], dtype=object)"
     },
     "execution_count": 12,
     "metadata": {},
     "output_type": "execute_result"
    }
   ],
   "source": [
    "species.conservation_status.unique()"
   ],
   "metadata": {
    "collapsed": false,
    "pycharm": {
     "name": "#%%\n"
    }
   }
  },
  {
   "cell_type": "markdown",
   "metadata": {},
   "source": [
    "# Step 4\n",
    "Let's start doing some analysis!\n",
    "\n",
    "The column `conservation_status` has several possible values:\n",
    "- `Species of Concern`: declining or appear to be in need of conservation\n",
    "- `Threatened`: vulnerable to endangerment in the near future\n",
    "- `Endangered`: seriously at risk of extinction\n",
    "- `In Recovery`: formerly `Endangered`, but currnetly neither in danger of extinction throughout all or a significant portion of its range\n",
    "\n",
    "We'd like to count up how many species meet each of these criteria.  Use `groupby` to count how many `scientific_name` meet each of these criteria."
   ]
  },
  {
   "cell_type": "code",
   "execution_count": 22,
   "metadata": {
    "collapsed": true
   },
   "outputs": [
    {
     "data": {
      "text/plain": "conservation_status\nEndangered             16\nIn Recovery             4\nSpecies of Concern    161\nThreatened             10\nName: scientific_name, dtype: int64"
     },
     "execution_count": 22,
     "metadata": {},
     "output_type": "execute_result"
    }
   ],
   "source": [
    "species.groupby('conservation_status').scientific_name.count()"
   ]
  },
  {
   "cell_type": "markdown",
   "metadata": {},
   "source": [
    "As we saw before, there are far more than 200 species in the `species` table.  Clearly, only a small number of them are categorized as needing some sort of protection.  The rest have `conservation_status` equal to `None`.  Because `groupby` does not include `None`, we will need to fill in the null values.  We can do this using `.fillna`.  We pass in however we want to fill in our `None` values as an argument.\n",
    "\n",
    "Paste the following code and run it to see replace `None` with `No Intervention`:\n",
    "```python\n",
    "species.fillna('No Intervention', inplace=True)\n",
    "```"
   ]
  },
  {
   "cell_type": "code",
   "execution_count": 119,
   "metadata": {
    "collapsed": true
   },
   "outputs": [],
   "source": [
    "species.conservation_status.fillna('No intervention', inplace = True)"
   ]
  },
  {
   "cell_type": "markdown",
   "metadata": {},
   "source": [
    "Great! Now run the same `groupby` as before to see how many species require `No Intervention`."
   ]
  },
  {
   "cell_type": "code",
   "execution_count": 120,
   "metadata": {
    "collapsed": true
   },
   "outputs": [
    {
     "data": {
      "text/plain": "conservation_status\nEndangered              16\nIn Recovery              4\nNo intervention       5633\nSpecies of Concern     161\nThreatened              10\nName: scientific_name, dtype: int64"
     },
     "execution_count": 120,
     "metadata": {},
     "output_type": "execute_result"
    }
   ],
   "source": [
    "species.groupby('conservation_status').scientific_name.count()"
   ]
  },
  {
   "cell_type": "markdown",
   "metadata": {},
   "source": [
    "Let's use `plt.bar` to create a bar chart.  First, let's sort the columns by how many species are in each categories.  We can do this using `.sort_values`.  We use the the keyword `by` to indicate which column we want to sort by.\n",
    "\n",
    "Paste the following code and run it to create a new DataFrame called `protection_counts`, which is sorted by `scientific_name`:\n",
    "```python\n",
    "protection_counts = species.groupby('conservation_status')\\\n",
    "    .scientific_name.nunique().reset_index()\\\n",
    "    .sort_values(by='scientific_name')\n",
    "```"
   ]
  },
  {
   "cell_type": "code",
   "execution_count": null,
   "metadata": {
    "collapsed": true
   },
   "outputs": [],
   "source": []
  },
  {
   "cell_type": "code",
   "execution_count": 25,
   "outputs": [],
   "source": [
    "protection_counts = species.groupby('conservation_status')\\\n",
    "    .scientific_name.nunique().reset_index()\\\n",
    "    .sort_values(by='scientific_name')"
   ],
   "metadata": {
    "collapsed": false,
    "pycharm": {
     "name": "#%%\n"
    }
   }
  },
  {
   "cell_type": "code",
   "execution_count": 26,
   "outputs": [
    {
     "data": {
      "text/plain": "  conservation_status  scientific_name\n1         In Recovery                4\n4          Threatened               10\n0          Endangered               15\n3  Species of Concern              151\n2     No intervention             5363",
      "text/html": "<div>\n<style scoped>\n    .dataframe tbody tr th:only-of-type {\n        vertical-align: middle;\n    }\n\n    .dataframe tbody tr th {\n        vertical-align: top;\n    }\n\n    .dataframe thead th {\n        text-align: right;\n    }\n</style>\n<table border=\"1\" class=\"dataframe\">\n  <thead>\n    <tr style=\"text-align: right;\">\n      <th></th>\n      <th>conservation_status</th>\n      <th>scientific_name</th>\n    </tr>\n  </thead>\n  <tbody>\n    <tr>\n      <th>1</th>\n      <td>In Recovery</td>\n      <td>4</td>\n    </tr>\n    <tr>\n      <th>4</th>\n      <td>Threatened</td>\n      <td>10</td>\n    </tr>\n    <tr>\n      <th>0</th>\n      <td>Endangered</td>\n      <td>15</td>\n    </tr>\n    <tr>\n      <th>3</th>\n      <td>Species of Concern</td>\n      <td>151</td>\n    </tr>\n    <tr>\n      <th>2</th>\n      <td>No intervention</td>\n      <td>5363</td>\n    </tr>\n  </tbody>\n</table>\n</div>"
     },
     "execution_count": 26,
     "metadata": {},
     "output_type": "execute_result"
    }
   ],
   "source": [
    "protection_counts"
   ],
   "metadata": {
    "collapsed": false,
    "pycharm": {
     "name": "#%%\n"
    }
   }
  },
  {
   "cell_type": "markdown",
   "metadata": {},
   "source": [
    "Now let's create a bar chart!\n",
    "1. Start by creating a wide figure with `figsize=(10, 4)`\n",
    "1. Start by creating an axes object called `ax` using `plt.subplot`.\n",
    "2. Create a bar chart whose heights are equal to `scientific_name` column of `protection_counts`.\n",
    "3. Create an x-tick for each of the bars.\n",
    "4. Label each x-tick with the label from `conservation_status` in `protection_counts`\n",
    "5. Label the y-axis `Number of Species`\n",
    "6. Title the graph `Conservation Status by Species`\n",
    "7. Plot the grap using `plt.show()`"
   ]
  },
  {
   "cell_type": "code",
   "execution_count": 29,
   "metadata": {
    "collapsed": true
   },
   "outputs": [
    {
     "data": {
      "text/plain": "<Figure size 720x288 with 1 Axes>",
      "image/png": "[encoded data removed]"
     },
     "metadata": {
      "needs_background": "light"
     },
     "output_type": "display_data"
    }
   ],
   "source": [
    "plt.figure(figsize=(10, 4))\n",
    "sns.barplot(x='conservation_status', y='scientific_name', data = protection_counts)\n",
    "plt.show()"
   ]
  },
  {
   "cell_type": "markdown",
   "metadata": {},
   "source": []
  },
  {
   "cell_type": "markdown",
   "metadata": {},
   "source": []
  },
  {
   "cell_type": "code",
   "execution_count": null,
   "outputs": [],
   "source": [],
   "metadata": {
    "collapsed": false,
    "pycharm": {
     "name": "#%%\n"
    }
   }
  },
  {
   "cell_type": "code",
   "execution_count": 30,
   "metadata": {
    "collapsed": true
   },
   "outputs": [],
   "source": [
    "species_without_no_int = species[species['conservation_status'] != 'No intervention']"
   ]
  },
  {
   "cell_type": "code",
   "execution_count": 31,
   "outputs": [
    {
     "data": {
      "text/plain": "            category                   scientific_name  \\\n7             Mammal                     Canis latrans   \n8             Mammal                       Canis lupus   \n9             Mammal                       Canis rufus   \n29            Mammal                  Eptesicus fuscus   \n30            Mammal         Lasionycteris noctivagans   \n...              ...                               ...   \n5302  Vascular Plant             Callitriche marginata   \n5399  Vascular Plant  Camissonia sierrae ssp. alticola   \n5426  Vascular Plant                Epilobium oreganum   \n5436  Vascular Plant              Botrychium ascendens   \n5676  Vascular Plant                  Romneya coulteri   \n\n                                           common_names conservation_status  \n7                                                Coyote  Species of Concern  \n8                                             Gray Wolf          Endangered  \n9                                              Red Wolf          Endangered  \n29                                        Big Brown Bat  Species of Concern  \n30                                    Silver-Haired Bat  Species of Concern  \n...                                                 ...                 ...  \n5302                              Winged Water-Starwort  Species of Concern  \n5399  Mono Hot Springs Evening Primrose, Mono Hot Sp...  Species of Concern  \n5426            Grants Pass Willowherb, Oregon Fireweed  Species of Concern  \n5436            Trianglelobe Moonwort, Upswept Moonwort  Species of Concern  \n5676                           Coulter's Matilija Poppy  Species of Concern  \n\n[191 rows x 4 columns]",
      "text/html": "<div>\n<style scoped>\n    .dataframe tbody tr th:only-of-type {\n        vertical-align: middle;\n    }\n\n    .dataframe tbody tr th {\n        vertical-align: top;\n    }\n\n    .dataframe thead th {\n        text-align: right;\n    }\n</style>\n<table border=\"1\" class=\"dataframe\">\n  <thead>\n    <tr style=\"text-align: right;\">\n      <th></th>\n      <th>category</th>\n      <th>scientific_name</th>\n      <th>common_names</th>\n      <th>conservation_status</th>\n    </tr>\n  </thead>\n  <tbody>\n    <tr>\n      <th>7</th>\n      <td>Mammal</td>\n      <td>Canis latrans</td>\n      <td>Coyote</td>\n      <td>Species of Concern</td>\n    </tr>\n    <tr>\n      <th>8</th>\n      <td>Mammal</td>\n      <td>Canis lupus</td>\n      <td>Gray Wolf</td>\n      <td>Endangered</td>\n    </tr>\n    <tr>\n      <th>9</th>\n      <td>Mammal</td>\n      <td>Canis rufus</td>\n      <td>Red Wolf</td>\n      <td>Endangered</td>\n    </tr>\n    <tr>\n      <th>29</th>\n      <td>Mammal</td>\n      <td>Eptesicus fuscus</td>\n      <td>Big Brown Bat</td>\n      <td>Species of Concern</td>\n    </tr>\n    <tr>\n      <th>30</th>\n      <td>Mammal</td>\n      <td>Lasionycteris noctivagans</td>\n      <td>Silver-Haired Bat</td>\n      <td>Species of Concern</td>\n    </tr>\n    <tr>\n      <th>...</th>\n      <td>...</td>\n      <td>...</td>\n      <td>...</td>\n      <td>...</td>\n    </tr>\n    <tr>\n      <th>5302</th>\n      <td>Vascular Plant</td>\n      <td>Callitriche marginata</td>\n      <td>Winged Water-Starwort</td>\n      <td>Species of Concern</td>\n    </tr>\n    <tr>\n      <th>5399</th>\n      <td>Vascular Plant</td>\n      <td>Camissonia sierrae ssp. alticola</td>\n      <td>Mono Hot Springs Evening Primrose, Mono Hot Sp...</td>\n      <td>Species of Concern</td>\n    </tr>\n    <tr>\n      <th>5426</th>\n      <td>Vascular Plant</td>\n      <td>Epilobium oreganum</td>\n      <td>Grants Pass Willowherb, Oregon Fireweed</td>\n      <td>Species of Concern</td>\n    </tr>\n    <tr>\n      <th>5436</th>\n      <td>Vascular Plant</td>\n      <td>Botrychium ascendens</td>\n      <td>Trianglelobe Moonwort, Upswept Moonwort</td>\n      <td>Species of Concern</td>\n    </tr>\n    <tr>\n      <th>5676</th>\n      <td>Vascular Plant</td>\n      <td>Romneya coulteri</td>\n      <td>Coulter's Matilija Poppy</td>\n      <td>Species of Concern</td>\n    </tr>\n  </tbody>\n</table>\n<p>191 rows × 4 columns</p>\n</div>"
     },
     "execution_count": 31,
     "metadata": {},
     "output_type": "execute_result"
    }
   ],
   "source": [
    "species_without_no_int\n"
   ],
   "metadata": {
    "collapsed": false,
    "pycharm": {
     "name": "#%%\n"
    }
   }
  },
  {
   "cell_type": "code",
   "execution_count": 55,
   "outputs": [],
   "source": [
    "new_protection_counts = species[species.conservation_status != \"No Intervention\"].groupby([\"conservation_status\", \"category\"])['scientific_name'].count().unstack()"
   ],
   "metadata": {
    "collapsed": false,
    "pycharm": {
     "name": "#%%\n"
    }
   }
  },
  {
   "cell_type": "code",
   "execution_count": 56,
   "outputs": [
    {
     "data": {
      "text/plain": "category             Amphibian   Bird   Fish  Mammal  Nonvascular Plant  \\\nconservation_status                                                       \nEndangered                 1.0    4.0    3.0     7.0                NaN   \nIn Recovery                NaN    3.0    NaN     1.0                NaN   \nNo intervention           73.0  442.0  116.0   176.0              328.0   \nSpecies of Concern         4.0   72.0    4.0    28.0                5.0   \nThreatened                 2.0    NaN    4.0     2.0                NaN   \n\ncategory             Reptile  Vascular Plant  \nconservation_status                           \nEndangered               NaN             1.0  \nIn Recovery              NaN             NaN  \nNo intervention         74.0          4424.0  \nSpecies of Concern       5.0            43.0  \nThreatened               NaN             2.0  ",
      "text/html": "<div>\n<style scoped>\n    .dataframe tbody tr th:only-of-type {\n        vertical-align: middle;\n    }\n\n    .dataframe tbody tr th {\n        vertical-align: top;\n    }\n\n    .dataframe thead th {\n        text-align: right;\n    }\n</style>\n<table border=\"1\" class=\"dataframe\">\n  <thead>\n    <tr style=\"text-align: right;\">\n      <th>category</th>\n      <th>Amphibian</th>\n      <th>Bird</th>\n      <th>Fish</th>\n      <th>Mammal</th>\n      <th>Nonvascular Plant</th>\n      <th>Reptile</th>\n      <th>Vascular Plant</th>\n    </tr>\n    <tr>\n      <th>conservation_status</th>\n      <th></th>\n      <th></th>\n      <th></th>\n      <th></th>\n      <th></th>\n      <th></th>\n      <th></th>\n    </tr>\n  </thead>\n  <tbody>\n    <tr>\n      <th>Endangered</th>\n      <td>1.0</td>\n      <td>4.0</td>\n      <td>3.0</td>\n      <td>7.0</td>\n      <td>NaN</td>\n      <td>NaN</td>\n      <td>1.0</td>\n    </tr>\n    <tr>\n      <th>In Recovery</th>\n      <td>NaN</td>\n      <td>3.0</td>\n      <td>NaN</td>\n      <td>1.0</td>\n      <td>NaN</td>\n      <td>NaN</td>\n      <td>NaN</td>\n    </tr>\n    <tr>\n      <th>No intervention</th>\n      <td>73.0</td>\n      <td>442.0</td>\n      <td>116.0</td>\n      <td>176.0</td>\n      <td>328.0</td>\n      <td>74.0</td>\n      <td>4424.0</td>\n    </tr>\n    <tr>\n      <th>Species of Concern</th>\n      <td>4.0</td>\n      <td>72.0</td>\n      <td>4.0</td>\n      <td>28.0</td>\n      <td>5.0</td>\n      <td>5.0</td>\n      <td>43.0</td>\n    </tr>\n    <tr>\n      <th>Threatened</th>\n      <td>2.0</td>\n      <td>NaN</td>\n      <td>4.0</td>\n      <td>2.0</td>\n      <td>NaN</td>\n      <td>NaN</td>\n      <td>2.0</td>\n    </tr>\n  </tbody>\n</table>\n</div>"
     },
     "execution_count": 56,
     "metadata": {},
     "output_type": "execute_result"
    }
   ],
   "source": [
    "new_protection_counts"
   ],
   "metadata": {
    "collapsed": false,
    "pycharm": {
     "name": "#%%\n"
    }
   }
  },
  {
   "cell_type": "code",
   "execution_count": 58,
   "outputs": [
    {
     "data": {
      "text/plain": "<Figure size 576x432 with 1 Axes>",
      "image/png": "[encoded data removed]"
     },
     "metadata": {
      "needs_background": "light"
     },
     "output_type": "display_data"
    }
   ],
   "source": [
    "ax = new_protection_counts.plot(kind = 'bar', figsize=(8,6),\n",
    "                               stacked=True)\n",
    "ax.set_xlabel(\"Conservation Status\")\n",
    "ax.set_ylabel(\"Number of Species\");"
   ],
   "metadata": {
    "collapsed": false,
    "pycharm": {
     "name": "#%%\n"
    }
   }
  },
  {
   "cell_type": "markdown",
   "source": [
    "# Step 4\n",
    "Are certain types of species more likely to be endangered?"
   ],
   "metadata": {
    "collapsed": false,
    "pycharm": {
     "name": "#%% md\n"
    }
   }
  },
  {
   "cell_type": "markdown",
   "source": [
    "Let's create a new column in `species` called `is_protected`, which is `True` if `conservation_status` is not equal to `No Intervention`, and `False` otherwise."
   ],
   "metadata": {
    "collapsed": false,
    "pycharm": {
     "name": "#%% md\n"
    }
   }
  },
  {
   "cell_type": "code",
   "execution_count": 122,
   "outputs": [],
   "source": [
    "species['is_protected'] = species['conservation_status'] != 'No intervention'"
   ],
   "metadata": {
    "collapsed": false,
    "pycharm": {
     "name": "#%%\n"
    }
   }
  },
  {
   "cell_type": "code",
   "execution_count": 46,
   "outputs": [
    {
     "data": {
      "text/plain": "            category                scientific_name  \\\n0             Mammal  Clethrionomys gapperi gapperi   \n1             Mammal                      Bos bison   \n2             Mammal                     Bos taurus   \n3             Mammal                     Ovis aries   \n4             Mammal                 Cervus elaphus   \n...              ...                            ...   \n5819  Vascular Plant               Solanum parishii   \n5820  Vascular Plant                  Solanum xanti   \n5821  Vascular Plant         Parthenocissus vitacea   \n5822  Vascular Plant              Vitis californica   \n5823  Vascular Plant            Tribulus terrestris   \n\n                                           common_names conservation_status  \\\n0                              Gapper's Red-Backed Vole     No intervention   \n1                                 American Bison, Bison     No intervention   \n2     Aurochs, Aurochs, Domestic Cattle (Feral), Dom...     No intervention   \n3     Domestic Sheep, Mouflon, Red Sheep, Sheep (Feral)     No intervention   \n4                                         Wapiti Or Elk     No intervention   \n...                                                 ...                 ...   \n5819                                Parish's Nightshade     No intervention   \n5820            Chaparral Nightshade, Purple Nightshade     No intervention   \n5821        Thicket Creeper, Virginia Creeper, Woodbine     No intervention   \n5822            California Grape, California Wild Grape     No intervention   \n5823  Bullhead, Caltrop, Goathead, Mexican Sandbur, ...     No intervention   \n\n      is_protected  \n0            False  \n1            False  \n2            False  \n3            False  \n4            False  \n...            ...  \n5819         False  \n5820         False  \n5821         False  \n5822         False  \n5823         False  \n\n[5824 rows x 5 columns]",
      "text/html": "<div>\n<style scoped>\n    .dataframe tbody tr th:only-of-type {\n        vertical-align: middle;\n    }\n\n    .dataframe tbody tr th {\n        vertical-align: top;\n    }\n\n    .dataframe thead th {\n        text-align: right;\n    }\n</style>\n<table border=\"1\" class=\"dataframe\">\n  <thead>\n    <tr style=\"text-align: right;\">\n      <th></th>\n      <th>category</th>\n      <th>scientific_name</th>\n      <th>common_names</th>\n      <th>conservation_status</th>\n      <th>is_protected</th>\n    </tr>\n  </thead>\n  <tbody>\n    <tr>\n      <th>0</th>\n      <td>Mammal</td>\n      <td>Clethrionomys gapperi gapperi</td>\n      <td>Gapper's Red-Backed Vole</td>\n      <td>No intervention</td>\n      <td>False</td>\n    </tr>\n    <tr>\n      <th>1</th>\n      <td>Mammal</td>\n      <td>Bos bison</td>\n      <td>American Bison, Bison</td>\n      <td>No intervention</td>\n      <td>False</td>\n    </tr>\n    <tr>\n      <th>2</th>\n      <td>Mammal</td>\n      <td>Bos taurus</td>\n      <td>Aurochs, Aurochs, Domestic Cattle (Feral), Dom...</td>\n      <td>No intervention</td>\n      <td>False</td>\n    </tr>\n    <tr>\n      <th>3</th>\n      <td>Mammal</td>\n      <td>Ovis aries</td>\n      <td>Domestic Sheep, Mouflon, Red Sheep, Sheep (Feral)</td>\n      <td>No intervention</td>\n      <td>False</td>\n    </tr>\n    <tr>\n      <th>4</th>\n      <td>Mammal</td>\n      <td>Cervus elaphus</td>\n      <td>Wapiti Or Elk</td>\n      <td>No intervention</td>\n      <td>False</td>\n    </tr>\n    <tr>\n      <th>...</th>\n      <td>...</td>\n      <td>...</td>\n      <td>...</td>\n      <td>...</td>\n      <td>...</td>\n    </tr>\n    <tr>\n      <th>5819</th>\n      <td>Vascular Plant</td>\n      <td>Solanum parishii</td>\n      <td>Parish's Nightshade</td>\n      <td>No intervention</td>\n      <td>False</td>\n    </tr>\n    <tr>\n      <th>5820</th>\n      <td>Vascular Plant</td>\n      <td>Solanum xanti</td>\n      <td>Chaparral Nightshade, Purple Nightshade</td>\n      <td>No intervention</td>\n      <td>False</td>\n    </tr>\n    <tr>\n      <th>5821</th>\n      <td>Vascular Plant</td>\n      <td>Parthenocissus vitacea</td>\n      <td>Thicket Creeper, Virginia Creeper, Woodbine</td>\n      <td>No intervention</td>\n      <td>False</td>\n    </tr>\n    <tr>\n      <th>5822</th>\n      <td>Vascular Plant</td>\n      <td>Vitis californica</td>\n      <td>California Grape, California Wild Grape</td>\n      <td>No intervention</td>\n      <td>False</td>\n    </tr>\n    <tr>\n      <th>5823</th>\n      <td>Vascular Plant</td>\n      <td>Tribulus terrestris</td>\n      <td>Bullhead, Caltrop, Goathead, Mexican Sandbur, ...</td>\n      <td>No intervention</td>\n      <td>False</td>\n    </tr>\n  </tbody>\n</table>\n<p>5824 rows × 5 columns</p>\n</div>"
     },
     "execution_count": 46,
     "metadata": {},
     "output_type": "execute_result"
    }
   ],
   "source": [
    "species"
   ],
   "metadata": {
    "collapsed": false,
    "pycharm": {
     "name": "#%%\n"
    }
   }
  },
  {
   "cell_type": "markdown",
   "metadata": {
    "collapsed": true
   },
   "source": [
    "It's going to be easier to view this data if we pivot it.  Using `pivot`, rearange `category_counts` so that:\n",
    "- `columns` is `is_protected`\n",
    "- `index` is `category`\n",
    "- `values` is `scientific_name`\n",
    "\n",
    "Save your pivoted data to `category_pivot`. Remember to `reset_index()` at the end.\n",
    "\n",
    "Use the `.columns` property to  rename the categories `True` and `False` to something more description:\n",
    "- Leave `category` as `category`\n",
    "- Rename `False` to `not_protected`\n",
    "- Rename `True` to `protected`"
   ]
  },
  {
   "cell_type": "code",
   "execution_count": 52,
   "metadata": {
    "collapsed": true
   },
   "outputs": [],
   "source": [
    "category_pivot = species.groupby(['category', 'is_protected']).scientific_name.nunique().reset_index().pivot(columns='is_protected',index='category',values='scientific_name').reset_index()\n",
    "category_pivot.columns = ['category', 'not_protected', 'protected']\n",
    "\n"
   ]
  },
  {
   "cell_type": "markdown",
   "metadata": {},
   "source": [
    "Examine `category_pivot`."
   ]
  },
  {
   "cell_type": "code",
   "execution_count": 53,
   "metadata": {
    "collapsed": true
   },
   "outputs": [
    {
     "data": {
      "text/plain": "            category  not_protected  protected\n0          Amphibian             72          7\n1               Bird            413         75\n2               Fish            115         11\n3             Mammal            146         30\n4  Nonvascular Plant            328          5\n5            Reptile             73          5\n6     Vascular Plant           4216         46",
      "text/html": "<div>\n<style scoped>\n    .dataframe tbody tr th:only-of-type {\n        vertical-align: middle;\n    }\n\n    .dataframe tbody tr th {\n        vertical-align: top;\n    }\n\n    .dataframe thead th {\n        text-align: right;\n    }\n</style>\n<table border=\"1\" class=\"dataframe\">\n  <thead>\n    <tr style=\"text-align: right;\">\n      <th></th>\n      <th>category</th>\n      <th>not_protected</th>\n      <th>protected</th>\n    </tr>\n  </thead>\n  <tbody>\n    <tr>\n      <th>0</th>\n      <td>Amphibian</td>\n      <td>72</td>\n      <td>7</td>\n    </tr>\n    <tr>\n      <th>1</th>\n      <td>Bird</td>\n      <td>413</td>\n      <td>75</td>\n    </tr>\n    <tr>\n      <th>2</th>\n      <td>Fish</td>\n      <td>115</td>\n      <td>11</td>\n    </tr>\n    <tr>\n      <th>3</th>\n      <td>Mammal</td>\n      <td>146</td>\n      <td>30</td>\n    </tr>\n    <tr>\n      <th>4</th>\n      <td>Nonvascular Plant</td>\n      <td>328</td>\n      <td>5</td>\n    </tr>\n    <tr>\n      <th>5</th>\n      <td>Reptile</td>\n      <td>73</td>\n      <td>5</td>\n    </tr>\n    <tr>\n      <th>6</th>\n      <td>Vascular Plant</td>\n      <td>4216</td>\n      <td>46</td>\n    </tr>\n  </tbody>\n</table>\n</div>"
     },
     "execution_count": 53,
     "metadata": {},
     "output_type": "execute_result"
    }
   ],
   "source": [
    "category_pivot"
   ]
  },
  {
   "cell_type": "markdown",
   "metadata": {},
   "source": []
  },
  {
   "cell_type": "markdown",
   "metadata": {},
   "source": [
    "Let's create a new column of `category_pivot` called `percent_protected`, which is equal to `protected` (the number of species that are protected) divided by `protected` plus `not_protected` (the total number of species)."
   ]
  },
  {
   "cell_type": "code",
   "execution_count": 60,
   "metadata": {
    "collapsed": true
   },
   "outputs": [],
   "source": [
    "category_pivot['percent_protected'] = category_pivot.protected/(category_pivot.protected+category_pivot.not_protected) * 100"
   ]
  },
  {
   "cell_type": "markdown",
   "metadata": {},
   "source": [
    "Examine `category_pivot`."
   ]
  },
  {
   "cell_type": "code",
   "execution_count": 61,
   "metadata": {
    "collapsed": true
   },
   "outputs": [
    {
     "data": {
      "text/plain": "            category  not_protected  protected  percent_protected\n0          Amphibian             72          7           8.860759\n1               Bird            413         75          15.368852\n2               Fish            115         11           8.730159\n3             Mammal            146         30          17.045455\n4  Nonvascular Plant            328          5           1.501502\n5            Reptile             73          5           6.410256\n6     Vascular Plant           4216         46           1.079305",
      "text/html": "<div>\n<style scoped>\n    .dataframe tbody tr th:only-of-type {\n        vertical-align: middle;\n    }\n\n    .dataframe tbody tr th {\n        vertical-align: top;\n    }\n\n    .dataframe thead th {\n        text-align: right;\n    }\n</style>\n<table border=\"1\" class=\"dataframe\">\n  <thead>\n    <tr style=\"text-align: right;\">\n      <th></th>\n      <th>category</th>\n      <th>not_protected</th>\n      <th>protected</th>\n      <th>percent_protected</th>\n    </tr>\n  </thead>\n  <tbody>\n    <tr>\n      <th>0</th>\n      <td>Amphibian</td>\n      <td>72</td>\n      <td>7</td>\n      <td>8.860759</td>\n    </tr>\n    <tr>\n      <th>1</th>\n      <td>Bird</td>\n      <td>413</td>\n      <td>75</td>\n      <td>15.368852</td>\n    </tr>\n    <tr>\n      <th>2</th>\n      <td>Fish</td>\n      <td>115</td>\n      <td>11</td>\n      <td>8.730159</td>\n    </tr>\n    <tr>\n      <th>3</th>\n      <td>Mammal</td>\n      <td>146</td>\n      <td>30</td>\n      <td>17.045455</td>\n    </tr>\n    <tr>\n      <th>4</th>\n      <td>Nonvascular Plant</td>\n      <td>328</td>\n      <td>5</td>\n      <td>1.501502</td>\n    </tr>\n    <tr>\n      <th>5</th>\n      <td>Reptile</td>\n      <td>73</td>\n      <td>5</td>\n      <td>6.410256</td>\n    </tr>\n    <tr>\n      <th>6</th>\n      <td>Vascular Plant</td>\n      <td>4216</td>\n      <td>46</td>\n      <td>1.079305</td>\n    </tr>\n  </tbody>\n</table>\n</div>"
     },
     "execution_count": 61,
     "metadata": {},
     "output_type": "execute_result"
    }
   ],
   "source": [
    "category_pivot"
   ]
  },
  {
   "cell_type": "code",
   "execution_count": 127,
   "outputs": [
    {
     "data": {
      "text/plain": "array(['Amphibian', 'Bird', 'Fish', 'Mammal', 'Nonvascular Plant',\n       'Reptile', 'Vascular Plant'], dtype=object)"
     },
     "execution_count": 127,
     "metadata": {},
     "output_type": "execute_result"
    }
   ],
   "source": [],
   "metadata": {
    "collapsed": false,
    "pycharm": {
     "name": "#%%\n"
    }
   }
  },
  {
   "cell_type": "markdown",
   "metadata": {},
   "source": [
    "It looks like species in category `Mammal` are more likely to be endangered than species in `Bird`.  We're going to do a significance test to see if this statement is true.  Before you do the significance test, consider the following questions:\n",
    "- Is the data numerical or categorical?\n",
    "- How many pieces of data are you comparing?"
   ]
  },
  {
   "cell_type": "markdown",
   "metadata": {},
   "source": [
    "Based on those answers, you should choose to do a *chi squared test*.  In order to run a chi squared test, we'll need to create a contingency table.  Our contingency table should look like this:\n",
    "\n",
    "||protected|not protected|\n",
    "|-|-|-|\n",
    "|Mammal|?|?|\n",
    "|Bird|?|?|\n",
    "\n",
    "Create a table called `contingency` and fill it in with the correct numbers"
   ]
  },
  {
   "cell_type": "code",
   "execution_count": 62,
   "metadata": {
    "collapsed": true
   },
   "outputs": [
    {
     "data": {
      "text/plain": "(0.1617014831654557,\n 0.6875948096661336,\n 1,\n array([[ 27.8313253, 148.1686747],\n        [ 77.1686747, 410.8313253]]))"
     },
     "execution_count": 62,
     "metadata": {},
     "output_type": "execute_result"
    }
   ],
   "source": [
    "from scipy.stats import chi2_contingency\n",
    "\n",
    "contingency1 = [[30, 146],\n",
    "                [75, 413]]\n",
    "chi2_contingency(contingency1)"
   ]
  },
  {
   "cell_type": "markdown",
   "metadata": {},
   "source": [
    "It looks like this difference isn't significant!\n",
    "\n",
    "Let's test another.  Is the difference between `Reptile` and `Mammal` significant?"
   ]
  },
  {
   "cell_type": "code",
   "execution_count": 63,
   "metadata": {
    "collapsed": true
   },
   "outputs": [
    {
     "data": {
      "text/plain": "(4.289183096203645,\n 0.03835559022969898,\n 1,\n array([[ 24.2519685, 151.7480315],\n        [ 10.7480315,  67.2519685]]))"
     },
     "execution_count": 63,
     "metadata": {},
     "output_type": "execute_result"
    }
   ],
   "source": [
    "contingency2 = [[30, 146],\n",
    "                [5, 73]]\n",
    "chi2_contingency(contingency2)"
   ]
  },
  {
   "cell_type": "markdown",
   "metadata": {},
   "source": [
    "Yes! It looks like there is a significant difference between `Reptile` and `Mammal`!"
   ]
  },
  {
   "cell_type": "markdown",
   "metadata": {
    "pycharm": {
     "name": "#%% md\n"
    }
   },
   "source": [
    "# Step 5"
   ]
  },
  {
   "cell_type": "markdown",
   "source": [
    "Conservationists have been recording sightings of different species at several national parks for the past 7 days.  They've saved sent you their observations in a file called `observations.csv`.  Load `observations.csv` into a variable called `observations`, then use `head` to view the data."
   ],
   "metadata": {
    "collapsed": false
   }
  },
  {
   "cell_type": "markdown",
   "source": [
    "let clean data"
   ],
   "metadata": {
    "collapsed": false,
    "pycharm": {
     "name": "#%% md\n"
    }
   }
  },
  {
   "cell_type": "code",
   "execution_count": null,
   "outputs": [],
   "source": [
    "observations = pd.read_csv('observations.csv')"
   ],
   "metadata": {
    "collapsed": false,
    "pycharm": {
     "name": "#%%\n"
    }
   }
  },
  {
   "cell_type": "code",
   "execution_count": 105,
   "outputs": [
    {
     "data": {
      "text/plain": "            scientific_name                            park_name  observations\n0        Vicia benghalensis  Great Smoky Mountains National Park            68\n1            Neovison vison  Great Smoky Mountains National Park            77\n2         Prunus subcordata               Yosemite National Park           138\n3      Abutilon theophrasti                  Bryce National Park            84\n4  Githopsis specularioides  Great Smoky Mountains National Park            85",
      "text/html": "<div>\n<style scoped>\n    .dataframe tbody tr th:only-of-type {\n        vertical-align: middle;\n    }\n\n    .dataframe tbody tr th {\n        vertical-align: top;\n    }\n\n    .dataframe thead th {\n        text-align: right;\n    }\n</style>\n<table border=\"1\" class=\"dataframe\">\n  <thead>\n    <tr style=\"text-align: right;\">\n      <th></th>\n      <th>scientific_name</th>\n      <th>park_name</th>\n      <th>observations</th>\n    </tr>\n  </thead>\n  <tbody>\n    <tr>\n      <th>0</th>\n      <td>Vicia benghalensis</td>\n      <td>Great Smoky Mountains National Park</td>\n      <td>68</td>\n    </tr>\n    <tr>\n      <th>1</th>\n      <td>Neovison vison</td>\n      <td>Great Smoky Mountains National Park</td>\n      <td>77</td>\n    </tr>\n    <tr>\n      <th>2</th>\n      <td>Prunus subcordata</td>\n      <td>Yosemite National Park</td>\n      <td>138</td>\n    </tr>\n    <tr>\n      <th>3</th>\n      <td>Abutilon theophrasti</td>\n      <td>Bryce National Park</td>\n      <td>84</td>\n    </tr>\n    <tr>\n      <th>4</th>\n      <td>Githopsis specularioides</td>\n      <td>Great Smoky Mountains National Park</td>\n      <td>85</td>\n    </tr>\n  </tbody>\n</table>\n</div>"
     },
     "execution_count": 105,
     "metadata": {},
     "output_type": "execute_result"
    }
   ],
   "source": [
    "observations.head()"
   ],
   "metadata": {
    "collapsed": false,
    "pycharm": {
     "name": "#%%\n"
    }
   }
  },
  {
   "cell_type": "markdown",
   "source": [
    "create function that remove punctuations and split string to list"
   ],
   "metadata": {
    "collapsed": false,
    "pycharm": {
     "name": "#%% md\n"
    }
   }
  },
  {
   "cell_type": "code",
   "execution_count": 139,
   "outputs": [
    {
     "data": {
      "text/plain": "[['Gappers', 'RedBacked', 'Vole'],\n ['American', 'Bison', 'Bison'],\n ['Aurochs',\n  'Aurochs',\n  'Domestic',\n  'Cattle',\n  'Feral',\n  'Domesticated',\n  'Cattle'],\n ['Domestic', 'Sheep', 'Mouflon', 'Red', 'Sheep', 'Sheep', 'Feral'],\n ['Wapiti', 'Or', 'Elk'],\n ['WhiteTailed', 'Deer']]"
     },
     "execution_count": 139,
     "metadata": {},
     "output_type": "execute_result"
    }
   ],
   "source": [
    "from itertools import chain\n",
    "import string\n",
    "\n",
    "def remove_punctuations(text):\n",
    "    for punctuation in string.punctuation:\n",
    "        text = text.replace(punctuation, '')\n",
    "    return text\n",
    "\n",
    "common_Names = species[species.category == \"Mammal\"]\\\n",
    "    .common_names\\\n",
    "    .apply(remove_punctuations)\\\n",
    "    .str.split().tolist()\n",
    "\n",
    "common_Names[:6]"
   ],
   "metadata": {
    "collapsed": false,
    "pycharm": {
     "name": "#%%\n"
    }
   }
  },
  {
   "cell_type": "markdown",
   "source": [
    "rebuild list"
   ],
   "metadata": {
    "collapsed": false,
    "pycharm": {
     "name": "#%% md\n"
    }
   }
  },
  {
   "cell_type": "code",
   "execution_count": 140,
   "outputs": [
    {
     "data": {
      "text/plain": "[['Gappers', 'RedBacked', 'Vole'],\n ['American', 'Bison'],\n ['Aurochs', 'Domestic', 'Cattle', 'Feral', 'Domesticated'],\n ['Domestic', 'Sheep', 'Mouflon', 'Red', 'Feral'],\n ['Wapiti', 'Or', 'Elk'],\n ['WhiteTailed', 'Deer']]"
     },
     "execution_count": 140,
     "metadata": {},
     "output_type": "execute_result"
    }
   ],
   "source": [
    "cleanRows = []\n",
    "\n",
    "for item in common_Names:\n",
    "    item = list(dict.fromkeys(item))\n",
    "    cleanRows.append(item)\n",
    "\n",
    "cleanRows[:6]"
   ],
   "metadata": {
    "collapsed": false,
    "pycharm": {
     "name": "#%%\n"
    }
   }
  },
  {
   "cell_type": "code",
   "execution_count": 141,
   "outputs": [
    {
     "data": {
      "text/plain": "['Gappers', 'RedBacked', 'Vole', 'American', 'Bison', 'Aurochs']"
     },
     "execution_count": 141,
     "metadata": {},
     "output_type": "execute_result"
    }
   ],
   "source": [
    "res = list(chain.from_iterable(i if isinstance(i, list) else [i] for i in cleanRows))\n",
    "res[:6]"
   ],
   "metadata": {
    "collapsed": false,
    "pycharm": {
     "name": "#%%\n"
    }
   }
  },
  {
   "cell_type": "code",
   "execution_count": 143,
   "outputs": [
    {
     "data": {
      "text/plain": "         Word  Count\n75        Bat     23\n10      Shrew     18\n163    Myotis     17\n178     Mouse     16\n198  Chipmunk     13\n50   Squirrel     12\n173  American     12\n117      Vole     11\n116   Eastern     11\n177   Western     10",
      "text/html": "<div>\n<style scoped>\n    .dataframe tbody tr th:only-of-type {\n        vertical-align: middle;\n    }\n\n    .dataframe tbody tr th {\n        vertical-align: top;\n    }\n\n    .dataframe thead th {\n        text-align: right;\n    }\n</style>\n<table border=\"1\" class=\"dataframe\">\n  <thead>\n    <tr style=\"text-align: right;\">\n      <th></th>\n      <th>Word</th>\n      <th>Count</th>\n    </tr>\n  </thead>\n  <tbody>\n    <tr>\n      <th>75</th>\n      <td>Bat</td>\n      <td>23</td>\n    </tr>\n    <tr>\n      <th>10</th>\n      <td>Shrew</td>\n      <td>18</td>\n    </tr>\n    <tr>\n      <th>163</th>\n      <td>Myotis</td>\n      <td>17</td>\n    </tr>\n    <tr>\n      <th>178</th>\n      <td>Mouse</td>\n      <td>16</td>\n    </tr>\n    <tr>\n      <th>198</th>\n      <td>Chipmunk</td>\n      <td>13</td>\n    </tr>\n    <tr>\n      <th>50</th>\n      <td>Squirrel</td>\n      <td>12</td>\n    </tr>\n    <tr>\n      <th>173</th>\n      <td>American</td>\n      <td>12</td>\n    </tr>\n    <tr>\n      <th>117</th>\n      <td>Vole</td>\n      <td>11</td>\n    </tr>\n    <tr>\n      <th>116</th>\n      <td>Eastern</td>\n      <td>11</td>\n    </tr>\n    <tr>\n      <th>177</th>\n      <td>Western</td>\n      <td>10</td>\n    </tr>\n  </tbody>\n</table>\n</div>"
     },
     "execution_count": 143,
     "metadata": {},
     "output_type": "execute_result"
    }
   ],
   "source": [
    "words_counted = []\n",
    "\n",
    "for i in res:\n",
    "    x = res.count(i)\n",
    "    words_counted.append((i,x))\n",
    "\n",
    "pd.DataFrame(set(words_counted), columns =['Word', 'Count']).sort_values(\"Count\", ascending = False).head(10)"
   ],
   "metadata": {
    "collapsed": false,
    "pycharm": {
     "name": "#%%\n"
    }
   }
  },
  {
   "cell_type": "code",
   "execution_count": 144,
   "outputs": [],
   "source": [
    "common_Names_birds = species[species.category == \"Bird\"]\\\n",
    "    .common_names\\\n",
    "    .apply(remove_punctuations)\\\n",
    "    .str.split().tolist()"
   ],
   "metadata": {
    "collapsed": false,
    "pycharm": {
     "name": "#%%\n"
    }
   }
  },
  {
   "cell_type": "code",
   "execution_count": null,
   "outputs": [],
   "source": [],
   "metadata": {
    "collapsed": false,
    "pycharm": {
     "name": "#%%\n"
    }
   }
  },
  {
   "cell_type": "code",
   "execution_count": 154,
   "outputs": [
    {
     "data": {
      "text/plain": "[['Brewsters', 'Warbler'],\n ['Coopers', 'Hawk'],\n ['Northern', 'Goshawk'],\n ['SharpShinned', 'Hawk'],\n ['Golden', 'Eagle'],\n ['RedTailed', 'Hawk']]"
     },
     "execution_count": 154,
     "metadata": {},
     "output_type": "execute_result"
    }
   ],
   "source": [
    "cleanRows_birds = []\n",
    "\n",
    "for item in common_Names_birds:\n",
    "    item = list(dict.fromkeys(item))\n",
    "    cleanRows_birds.append(item)\n",
    "\n",
    "cleanRows_birds[:6]"
   ],
   "metadata": {
    "collapsed": false,
    "pycharm": {
     "name": "#%%\n"
    }
   }
  },
  {
   "cell_type": "code",
   "execution_count": 155,
   "outputs": [
    {
     "data": {
      "text/plain": "['Brewsters', 'Warbler', 'Coopers', 'Hawk', 'Northern', 'Goshawk']"
     },
     "execution_count": 155,
     "metadata": {},
     "output_type": "execute_result"
    }
   ],
   "source": [
    "res_birds = list(chain.from_iterable(i if isinstance(i, list) else [i] for i in cleanRows_birds))\n",
    "res_birds[:6]"
   ],
   "metadata": {
    "collapsed": false,
    "pycharm": {
     "name": "#%%\n"
    }
   }
  },
  {
   "cell_type": "code",
   "execution_count": 156,
   "outputs": [
    {
     "data": {
      "text/plain": "           Word  Count\n160    American     21\n7      Northern     20\n54       Common     18\n182     Western     12\n87         Gray      9\n38      Eastern      9\n199       Black      7\n113  California      5\n117    Mountain      5\n67     Eurasian      5",
      "text/html": "<div>\n<style scoped>\n    .dataframe tbody tr th:only-of-type {\n        vertical-align: middle;\n    }\n\n    .dataframe tbody tr th {\n        vertical-align: top;\n    }\n\n    .dataframe thead th {\n        text-align: right;\n    }\n</style>\n<table border=\"1\" class=\"dataframe\">\n  <thead>\n    <tr style=\"text-align: right;\">\n      <th></th>\n      <th>Word</th>\n      <th>Count</th>\n    </tr>\n  </thead>\n  <tbody>\n    <tr>\n      <th>160</th>\n      <td>American</td>\n      <td>21</td>\n    </tr>\n    <tr>\n      <th>7</th>\n      <td>Northern</td>\n      <td>20</td>\n    </tr>\n    <tr>\n      <th>54</th>\n      <td>Common</td>\n      <td>18</td>\n    </tr>\n    <tr>\n      <th>182</th>\n      <td>Western</td>\n      <td>12</td>\n    </tr>\n    <tr>\n      <th>87</th>\n      <td>Gray</td>\n      <td>9</td>\n    </tr>\n    <tr>\n      <th>38</th>\n      <td>Eastern</td>\n      <td>9</td>\n    </tr>\n    <tr>\n      <th>199</th>\n      <td>Black</td>\n      <td>7</td>\n    </tr>\n    <tr>\n      <th>113</th>\n      <td>California</td>\n      <td>5</td>\n    </tr>\n    <tr>\n      <th>117</th>\n      <td>Mountain</td>\n      <td>5</td>\n    </tr>\n    <tr>\n      <th>67</th>\n      <td>Eurasian</td>\n      <td>5</td>\n    </tr>\n  </tbody>\n</table>\n</div>"
     },
     "execution_count": 156,
     "metadata": {},
     "output_type": "execute_result"
    }
   ],
   "source": [
    "words_counted_birds = []\n",
    "\n",
    "for i in res:\n",
    "    x = res_birds.count(i)\n",
    "    words_counted_birds.append((i,x))\n",
    "\n",
    "pd.DataFrame(set(words_counted_birds), columns =['Word', 'Count']).sort_values(\"Count\", ascending = False).head(10)"
   ],
   "metadata": {
    "collapsed": false,
    "pycharm": {
     "name": "#%%\n"
    }
   }
  },
  {
   "cell_type": "markdown",
   "source": [
    "lets create column woth information about bat"
   ],
   "metadata": {
    "collapsed": false,
    "pycharm": {
     "name": "#%% md\n"
    }
   }
  },
  {
   "cell_type": "code",
   "execution_count": 157,
   "outputs": [
    {
     "data": {
      "text/plain": "  category                scientific_name  \\\n0   Mammal  Clethrionomys gapperi gapperi   \n1   Mammal                      Bos bison   \n2   Mammal                     Bos taurus   \n3   Mammal                     Ovis aries   \n4   Mammal                 Cervus elaphus   \n5   Mammal         Odocoileus virginianus   \n6   Mammal                     Sus scrofa   \n7   Mammal                  Canis latrans   \n8   Mammal                    Canis lupus   \n9   Mammal                    Canis rufus   \n\n                                        common_names conservation_status  \\\n0                           Gapper's Red-Backed Vole     No intervention   \n1                              American Bison, Bison     No intervention   \n2  Aurochs, Aurochs, Domestic Cattle (Feral), Dom...     No intervention   \n3  Domestic Sheep, Mouflon, Red Sheep, Sheep (Feral)     No intervention   \n4                                      Wapiti Or Elk     No intervention   \n5                                  White-Tailed Deer     No intervention   \n6                                Feral Hog, Wild Pig     No intervention   \n7                                             Coyote  Species of Concern   \n8                                          Gray Wolf          Endangered   \n9                                           Red Wolf          Endangered   \n\n   is_bat  is_protected  is_bird  \n0   False         False    False  \n1   False         False    False  \n2   False         False    False  \n3   False         False    False  \n4   False         False    False  \n5   False         False    False  \n6   False         False    False  \n7   False          True    False  \n8   False          True    False  \n9   False          True    False  ",
      "text/html": "<div>\n<style scoped>\n    .dataframe tbody tr th:only-of-type {\n        vertical-align: middle;\n    }\n\n    .dataframe tbody tr th {\n        vertical-align: top;\n    }\n\n    .dataframe thead th {\n        text-align: right;\n    }\n</style>\n<table border=\"1\" class=\"dataframe\">\n  <thead>\n    <tr style=\"text-align: right;\">\n      <th></th>\n      <th>category</th>\n      <th>scientific_name</th>\n      <th>common_names</th>\n      <th>conservation_status</th>\n      <th>is_bat</th>\n      <th>is_protected</th>\n      <th>is_bird</th>\n    </tr>\n  </thead>\n  <tbody>\n    <tr>\n      <th>0</th>\n      <td>Mammal</td>\n      <td>Clethrionomys gapperi gapperi</td>\n      <td>Gapper's Red-Backed Vole</td>\n      <td>No intervention</td>\n      <td>False</td>\n      <td>False</td>\n      <td>False</td>\n    </tr>\n    <tr>\n      <th>1</th>\n      <td>Mammal</td>\n      <td>Bos bison</td>\n      <td>American Bison, Bison</td>\n      <td>No intervention</td>\n      <td>False</td>\n      <td>False</td>\n      <td>False</td>\n    </tr>\n    <tr>\n      <th>2</th>\n      <td>Mammal</td>\n      <td>Bos taurus</td>\n      <td>Aurochs, Aurochs, Domestic Cattle (Feral), Dom...</td>\n      <td>No intervention</td>\n      <td>False</td>\n      <td>False</td>\n      <td>False</td>\n    </tr>\n    <tr>\n      <th>3</th>\n      <td>Mammal</td>\n      <td>Ovis aries</td>\n      <td>Domestic Sheep, Mouflon, Red Sheep, Sheep (Feral)</td>\n      <td>No intervention</td>\n      <td>False</td>\n      <td>False</td>\n      <td>False</td>\n    </tr>\n    <tr>\n      <th>4</th>\n      <td>Mammal</td>\n      <td>Cervus elaphus</td>\n      <td>Wapiti Or Elk</td>\n      <td>No intervention</td>\n      <td>False</td>\n      <td>False</td>\n      <td>False</td>\n    </tr>\n    <tr>\n      <th>5</th>\n      <td>Mammal</td>\n      <td>Odocoileus virginianus</td>\n      <td>White-Tailed Deer</td>\n      <td>No intervention</td>\n      <td>False</td>\n      <td>False</td>\n      <td>False</td>\n    </tr>\n    <tr>\n      <th>6</th>\n      <td>Mammal</td>\n      <td>Sus scrofa</td>\n      <td>Feral Hog, Wild Pig</td>\n      <td>No intervention</td>\n      <td>False</td>\n      <td>False</td>\n      <td>False</td>\n    </tr>\n    <tr>\n      <th>7</th>\n      <td>Mammal</td>\n      <td>Canis latrans</td>\n      <td>Coyote</td>\n      <td>Species of Concern</td>\n      <td>False</td>\n      <td>True</td>\n      <td>False</td>\n    </tr>\n    <tr>\n      <th>8</th>\n      <td>Mammal</td>\n      <td>Canis lupus</td>\n      <td>Gray Wolf</td>\n      <td>Endangered</td>\n      <td>False</td>\n      <td>True</td>\n      <td>False</td>\n    </tr>\n    <tr>\n      <th>9</th>\n      <td>Mammal</td>\n      <td>Canis rufus</td>\n      <td>Red Wolf</td>\n      <td>Endangered</td>\n      <td>False</td>\n      <td>True</td>\n      <td>False</td>\n    </tr>\n  </tbody>\n</table>\n</div>"
     },
     "execution_count": 157,
     "metadata": {},
     "output_type": "execute_result"
    }
   ],
   "source": [
    "species['is_bat'] = species.common_names.str.contains(r\"\\bBat\\b\", regex = True)\n",
    "\n",
    "species.head(10)"
   ],
   "metadata": {
    "collapsed": false,
    "pycharm": {
     "name": "#%%\n"
    }
   }
  },
  {
   "cell_type": "markdown",
   "source": [
    "lets combine dataframes on column 'is_bat'"
   ],
   "metadata": {
    "collapsed": false,
    "pycharm": {
     "name": "#%% md\n"
    }
   }
  },
  {
   "cell_type": "code",
   "execution_count": 158,
   "outputs": [
    {
     "data": {
      "text/plain": "              scientific_name                            park_name  \\\n0       Lasiurus blossevillii                  Bryce National Park   \n1       Lasiurus blossevillii  Great Smoky Mountains National Park   \n2       Lasiurus blossevillii               Yosemite National Park   \n3       Lasiurus blossevillii            Yellowstone National Park   \n4    Corynorhinus rafinesquii               Yosemite National Park   \n..                        ...                                  ...   \n139            Myotis sodalis            Yellowstone National Park   \n140             Myotis leibii               Yosemite National Park   \n141             Myotis leibii                  Bryce National Park   \n142             Myotis leibii  Great Smoky Mountains National Park   \n143             Myotis leibii            Yellowstone National Park   \n\n     observations category                                       common_names  \\\n0             113   Mammal                                    Western Red Bat   \n1              70   Mammal                                    Western Red Bat   \n2             123   Mammal                                    Western Red Bat   \n3             221   Mammal                                    Western Red Bat   \n4             188   Mammal                         Rafinesque's Big-Eared Bat   \n..            ...      ...                                                ...   \n139            68   Mammal              Indiana Bat, Indiana Or Social Myotis   \n140           132   Mammal  Eastern Small-Footed Bat, Eastern Small-Footed...   \n141            84   Mammal  Eastern Small-Footed Bat, Eastern Small-Footed...   \n142            49   Mammal  Eastern Small-Footed Bat, Eastern Small-Footed...   \n143           233   Mammal  Eastern Small-Footed Bat, Eastern Small-Footed...   \n\n    conservation_status  is_bat  is_protected  is_bird  \n0    Species of Concern    True          True    False  \n1    Species of Concern    True          True    False  \n2    Species of Concern    True          True    False  \n3    Species of Concern    True          True    False  \n4       No intervention    True         False    False  \n..                  ...     ...           ...      ...  \n139          Endangered    True          True    False  \n140  Species of Concern    True          True    False  \n141  Species of Concern    True          True    False  \n142  Species of Concern    True          True    False  \n143  Species of Concern    True          True    False  \n\n[144 rows x 9 columns]",
      "text/html": "<div>\n<style scoped>\n    .dataframe tbody tr th:only-of-type {\n        vertical-align: middle;\n    }\n\n    .dataframe tbody tr th {\n        vertical-align: top;\n    }\n\n    .dataframe thead th {\n        text-align: right;\n    }\n</style>\n<table border=\"1\" class=\"dataframe\">\n  <thead>\n    <tr style=\"text-align: right;\">\n      <th></th>\n      <th>scientific_name</th>\n      <th>park_name</th>\n      <th>observations</th>\n      <th>category</th>\n      <th>common_names</th>\n      <th>conservation_status</th>\n      <th>is_bat</th>\n      <th>is_protected</th>\n      <th>is_bird</th>\n    </tr>\n  </thead>\n  <tbody>\n    <tr>\n      <th>0</th>\n      <td>Lasiurus blossevillii</td>\n      <td>Bryce National Park</td>\n      <td>113</td>\n      <td>Mammal</td>\n      <td>Western Red Bat</td>\n      <td>Species of Concern</td>\n      <td>True</td>\n      <td>True</td>\n      <td>False</td>\n    </tr>\n    <tr>\n      <th>1</th>\n      <td>Lasiurus blossevillii</td>\n      <td>Great Smoky Mountains National Park</td>\n      <td>70</td>\n      <td>Mammal</td>\n      <td>Western Red Bat</td>\n      <td>Species of Concern</td>\n      <td>True</td>\n      <td>True</td>\n      <td>False</td>\n    </tr>\n    <tr>\n      <th>2</th>\n      <td>Lasiurus blossevillii</td>\n      <td>Yosemite National Park</td>\n      <td>123</td>\n      <td>Mammal</td>\n      <td>Western Red Bat</td>\n      <td>Species of Concern</td>\n      <td>True</td>\n      <td>True</td>\n      <td>False</td>\n    </tr>\n    <tr>\n      <th>3</th>\n      <td>Lasiurus blossevillii</td>\n      <td>Yellowstone National Park</td>\n      <td>221</td>\n      <td>Mammal</td>\n      <td>Western Red Bat</td>\n      <td>Species of Concern</td>\n      <td>True</td>\n      <td>True</td>\n      <td>False</td>\n    </tr>\n    <tr>\n      <th>4</th>\n      <td>Corynorhinus rafinesquii</td>\n      <td>Yosemite National Park</td>\n      <td>188</td>\n      <td>Mammal</td>\n      <td>Rafinesque's Big-Eared Bat</td>\n      <td>No intervention</td>\n      <td>True</td>\n      <td>False</td>\n      <td>False</td>\n    </tr>\n    <tr>\n      <th>...</th>\n      <td>...</td>\n      <td>...</td>\n      <td>...</td>\n      <td>...</td>\n      <td>...</td>\n      <td>...</td>\n      <td>...</td>\n      <td>...</td>\n      <td>...</td>\n    </tr>\n    <tr>\n      <th>139</th>\n      <td>Myotis sodalis</td>\n      <td>Yellowstone National Park</td>\n      <td>68</td>\n      <td>Mammal</td>\n      <td>Indiana Bat, Indiana Or Social Myotis</td>\n      <td>Endangered</td>\n      <td>True</td>\n      <td>True</td>\n      <td>False</td>\n    </tr>\n    <tr>\n      <th>140</th>\n      <td>Myotis leibii</td>\n      <td>Yosemite National Park</td>\n      <td>132</td>\n      <td>Mammal</td>\n      <td>Eastern Small-Footed Bat, Eastern Small-Footed...</td>\n      <td>Species of Concern</td>\n      <td>True</td>\n      <td>True</td>\n      <td>False</td>\n    </tr>\n    <tr>\n      <th>141</th>\n      <td>Myotis leibii</td>\n      <td>Bryce National Park</td>\n      <td>84</td>\n      <td>Mammal</td>\n      <td>Eastern Small-Footed Bat, Eastern Small-Footed...</td>\n      <td>Species of Concern</td>\n      <td>True</td>\n      <td>True</td>\n      <td>False</td>\n    </tr>\n    <tr>\n      <th>142</th>\n      <td>Myotis leibii</td>\n      <td>Great Smoky Mountains National Park</td>\n      <td>49</td>\n      <td>Mammal</td>\n      <td>Eastern Small-Footed Bat, Eastern Small-Footed...</td>\n      <td>Species of Concern</td>\n      <td>True</td>\n      <td>True</td>\n      <td>False</td>\n    </tr>\n    <tr>\n      <th>143</th>\n      <td>Myotis leibii</td>\n      <td>Yellowstone National Park</td>\n      <td>233</td>\n      <td>Mammal</td>\n      <td>Eastern Small-Footed Bat, Eastern Small-Footed...</td>\n      <td>Species of Concern</td>\n      <td>True</td>\n      <td>True</td>\n      <td>False</td>\n    </tr>\n  </tbody>\n</table>\n<p>144 rows × 9 columns</p>\n</div>"
     },
     "execution_count": 158,
     "metadata": {},
     "output_type": "execute_result"
    }
   ],
   "source": [
    "bat_observations = observations.merge(species[species.is_bat])\n",
    "bat_observations"
   ],
   "metadata": {
    "collapsed": false,
    "pycharm": {
     "name": "#%%\n"
    }
   }
  },
  {
   "cell_type": "markdown",
   "source": [
    "let see observations of bat"
   ],
   "metadata": {
    "collapsed": false,
    "pycharm": {
     "name": "#%% md\n"
    }
   }
  },
  {
   "cell_type": "code",
   "execution_count": 160,
   "outputs": [
    {
     "data": {
      "text/plain": "                             park_name  observations\n0                  Bryce National Park          3433\n1  Great Smoky Mountains National Park          2411\n2            Yellowstone National Park          8362\n3               Yosemite National Park          4786",
      "text/html": "<div>\n<style scoped>\n    .dataframe tbody tr th:only-of-type {\n        vertical-align: middle;\n    }\n\n    .dataframe tbody tr th {\n        vertical-align: top;\n    }\n\n    .dataframe thead th {\n        text-align: right;\n    }\n</style>\n<table border=\"1\" class=\"dataframe\">\n  <thead>\n    <tr style=\"text-align: right;\">\n      <th></th>\n      <th>park_name</th>\n      <th>observations</th>\n    </tr>\n  </thead>\n  <tbody>\n    <tr>\n      <th>0</th>\n      <td>Bryce National Park</td>\n      <td>3433</td>\n    </tr>\n    <tr>\n      <th>1</th>\n      <td>Great Smoky Mountains National Park</td>\n      <td>2411</td>\n    </tr>\n    <tr>\n      <th>2</th>\n      <td>Yellowstone National Park</td>\n      <td>8362</td>\n    </tr>\n    <tr>\n      <th>3</th>\n      <td>Yosemite National Park</td>\n      <td>4786</td>\n    </tr>\n  </tbody>\n</table>\n</div>"
     },
     "execution_count": 160,
     "metadata": {},
     "output_type": "execute_result"
    }
   ],
   "source": [
    "bat_observations.groupby('park_name').observations.sum().reset_index()"
   ],
   "metadata": {
    "collapsed": false,
    "pycharm": {
     "name": "#%%\n"
    }
   }
  },
  {
   "cell_type": "markdown",
   "source": [
    "is protected bats in parks"
   ],
   "metadata": {
    "collapsed": false,
    "pycharm": {
     "name": "#%% md\n"
    }
   }
  },
  {
   "cell_type": "code",
   "execution_count": 161,
   "outputs": [
    {
     "data": {
      "text/plain": "                             park_name  is_protected  observations\n0                  Bryce National Park         False          1596\n1                  Bryce National Park          True          1837\n2  Great Smoky Mountains National Park         False          1299\n3  Great Smoky Mountains National Park          True          1112\n4            Yellowstone National Park         False          4044\n5            Yellowstone National Park          True          4318\n6               Yosemite National Park         False          2345\n7               Yosemite National Park          True          2441",
      "text/html": "<div>\n<style scoped>\n    .dataframe tbody tr th:only-of-type {\n        vertical-align: middle;\n    }\n\n    .dataframe tbody tr th {\n        vertical-align: top;\n    }\n\n    .dataframe thead th {\n        text-align: right;\n    }\n</style>\n<table border=\"1\" class=\"dataframe\">\n  <thead>\n    <tr style=\"text-align: right;\">\n      <th></th>\n      <th>park_name</th>\n      <th>is_protected</th>\n      <th>observations</th>\n    </tr>\n  </thead>\n  <tbody>\n    <tr>\n      <th>0</th>\n      <td>Bryce National Park</td>\n      <td>False</td>\n      <td>1596</td>\n    </tr>\n    <tr>\n      <th>1</th>\n      <td>Bryce National Park</td>\n      <td>True</td>\n      <td>1837</td>\n    </tr>\n    <tr>\n      <th>2</th>\n      <td>Great Smoky Mountains National Park</td>\n      <td>False</td>\n      <td>1299</td>\n    </tr>\n    <tr>\n      <th>3</th>\n      <td>Great Smoky Mountains National Park</td>\n      <td>True</td>\n      <td>1112</td>\n    </tr>\n    <tr>\n      <th>4</th>\n      <td>Yellowstone National Park</td>\n      <td>False</td>\n      <td>4044</td>\n    </tr>\n    <tr>\n      <th>5</th>\n      <td>Yellowstone National Park</td>\n      <td>True</td>\n      <td>4318</td>\n    </tr>\n    <tr>\n      <th>6</th>\n      <td>Yosemite National Park</td>\n      <td>False</td>\n      <td>2345</td>\n    </tr>\n    <tr>\n      <th>7</th>\n      <td>Yosemite National Park</td>\n      <td>True</td>\n      <td>2441</td>\n    </tr>\n  </tbody>\n</table>\n</div>"
     },
     "execution_count": 161,
     "metadata": {},
     "output_type": "execute_result"
    }
   ],
   "source": [
    "obs_by_park = bat_observations.groupby(['park_name', 'is_protected']).observations.sum().reset_index()\n",
    "obs_by_park"
   ],
   "metadata": {
    "collapsed": false,
    "pycharm": {
     "name": "#%%\n"
    }
   }
  },
  {
   "cell_type": "markdown",
   "source": [
    "create barplot about protection of bat in different parks"
   ],
   "metadata": {
    "collapsed": false,
    "pycharm": {
     "name": "#%% md\n"
    }
   }
  },
  {
   "cell_type": "code",
   "execution_count": 162,
   "outputs": [
    {
     "data": {
      "text/plain": "<Figure size 1152x288 with 1 Axes>",
      "image/png": "[encoded data removed]"
     },
     "metadata": {
      "needs_background": "light"
     },
     "output_type": "display_data"
    }
   ],
   "source": [
    "plt.figure(figsize=(16, 4))\n",
    "sns.barplot(x=obs_by_park.park_name, y= obs_by_park.observations, hue=obs_by_park.is_protected)\n",
    "plt.xlabel('National Parks')\n",
    "plt.ylabel('Number of Observations')\n",
    "plt.title('Observations of Bats per Week')\n",
    "plt.show()"
   ],
   "metadata": {
    "collapsed": false,
    "pycharm": {
     "name": "#%%\n"
    }
   }
  },
  {
   "cell_type": "markdown",
   "source": [
    "let see protection in different park cetegory - Bird"
   ],
   "metadata": {
    "collapsed": false,
    "pycharm": {
     "name": "#%% md\n"
    }
   }
  },
  {
   "cell_type": "code",
   "execution_count": 163,
   "outputs": [],
   "source": [
    "species['is_bird'] = species.category.str.contains(r\"\\bBird\\b\", regex = True)"
   ],
   "metadata": {
    "collapsed": false,
    "pycharm": {
     "name": "#%%\n"
    }
   }
  },
  {
   "cell_type": "code",
   "execution_count": 164,
   "outputs": [],
   "source": [
    "bird_observations = observations.merge(species[species.is_bird])"
   ],
   "metadata": {
    "collapsed": false,
    "pycharm": {
     "name": "#%%\n"
    }
   }
  },
  {
   "cell_type": "code",
   "execution_count": 165,
   "outputs": [
    {
     "data": {
      "text/plain": "                             park_name  observations\n0                  Bryce National Park         58590\n1  Great Smoky Mountains National Park         42869\n2            Yellowstone National Park        144300\n3               Yosemite National Park         86612",
      "text/html": "<div>\n<style scoped>\n    .dataframe tbody tr th:only-of-type {\n        vertical-align: middle;\n    }\n\n    .dataframe tbody tr th {\n        vertical-align: top;\n    }\n\n    .dataframe thead th {\n        text-align: right;\n    }\n</style>\n<table border=\"1\" class=\"dataframe\">\n  <thead>\n    <tr style=\"text-align: right;\">\n      <th></th>\n      <th>park_name</th>\n      <th>observations</th>\n    </tr>\n  </thead>\n  <tbody>\n    <tr>\n      <th>0</th>\n      <td>Bryce National Park</td>\n      <td>58590</td>\n    </tr>\n    <tr>\n      <th>1</th>\n      <td>Great Smoky Mountains National Park</td>\n      <td>42869</td>\n    </tr>\n    <tr>\n      <th>2</th>\n      <td>Yellowstone National Park</td>\n      <td>144300</td>\n    </tr>\n    <tr>\n      <th>3</th>\n      <td>Yosemite National Park</td>\n      <td>86612</td>\n    </tr>\n  </tbody>\n</table>\n</div>"
     },
     "execution_count": 165,
     "metadata": {},
     "output_type": "execute_result"
    }
   ],
   "source": [
    "bird_observations.groupby('park_name').observations.sum().reset_index()"
   ],
   "metadata": {
    "collapsed": false,
    "pycharm": {
     "name": "#%%\n"
    }
   }
  },
  {
   "cell_type": "code",
   "execution_count": 178,
   "outputs": [
    {
     "data": {
      "text/plain": "                             park_name  is_protected  observations\n0                  Bryce National Park         False         50982\n1                  Bryce National Park          True          7608\n2  Great Smoky Mountains National Park         False         37572\n3  Great Smoky Mountains National Park          True          5297\n4            Yellowstone National Park         False        125774\n5            Yellowstone National Park          True         18526\n6               Yosemite National Park         False         75319\n7               Yosemite National Park          True         11293",
      "text/html": "<div>\n<style scoped>\n    .dataframe tbody tr th:only-of-type {\n        vertical-align: middle;\n    }\n\n    .dataframe tbody tr th {\n        vertical-align: top;\n    }\n\n    .dataframe thead th {\n        text-align: right;\n    }\n</style>\n<table border=\"1\" class=\"dataframe\">\n  <thead>\n    <tr style=\"text-align: right;\">\n      <th></th>\n      <th>park_name</th>\n      <th>is_protected</th>\n      <th>observations</th>\n    </tr>\n  </thead>\n  <tbody>\n    <tr>\n      <th>0</th>\n      <td>Bryce National Park</td>\n      <td>False</td>\n      <td>50982</td>\n    </tr>\n    <tr>\n      <th>1</th>\n      <td>Bryce National Park</td>\n      <td>True</td>\n      <td>7608</td>\n    </tr>\n    <tr>\n      <th>2</th>\n      <td>Great Smoky Mountains National Park</td>\n      <td>False</td>\n      <td>37572</td>\n    </tr>\n    <tr>\n      <th>3</th>\n      <td>Great Smoky Mountains National Park</td>\n      <td>True</td>\n      <td>5297</td>\n    </tr>\n    <tr>\n      <th>4</th>\n      <td>Yellowstone National Park</td>\n      <td>False</td>\n      <td>125774</td>\n    </tr>\n    <tr>\n      <th>5</th>\n      <td>Yellowstone National Park</td>\n      <td>True</td>\n      <td>18526</td>\n    </tr>\n    <tr>\n      <th>6</th>\n      <td>Yosemite National Park</td>\n      <td>False</td>\n      <td>75319</td>\n    </tr>\n    <tr>\n      <th>7</th>\n      <td>Yosemite National Park</td>\n      <td>True</td>\n      <td>11293</td>\n    </tr>\n  </tbody>\n</table>\n</div>"
     },
     "execution_count": 178,
     "metadata": {},
     "output_type": "execute_result"
    }
   ],
   "source": [
    "obs_birds_by_park = bird_observations.groupby(['park_name', 'is_protected']).observations.sum().reset_index()\n",
    "obs_birds_by_park"
   ],
   "metadata": {
    "collapsed": false,
    "pycharm": {
     "name": "#%%\n"
    }
   }
  },
  {
   "cell_type": "code",
   "execution_count": 181,
   "outputs": [
    {
     "data": {
      "text/plain": "<Figure size 1152x288 with 1 Axes>",
      "image/png": "[encoded data removed]"
     },
     "metadata": {
      "needs_background": "light"
     },
     "output_type": "display_data"
    }
   ],
   "source": [
    "plt.figure(figsize=(16, 4))\n",
    "sns.barplot(x=obs_birds_by_park.park_name, y= obs_birds_by_park.observations, hue=obs_birds_by_park.is_protected)\n",
    "plt.xlabel('National Parks')\n",
    "plt.ylabel('Number of Observations')\n",
    "plt.title('Observations of Birds per Week')\n",
    "plt.show()"
   ],
   "metadata": {
    "collapsed": false,
    "pycharm": {
     "name": "#%%\n"
    }
   }
  },
  {
   "cell_type": "code",
   "execution_count": 175,
   "outputs": [],
   "source": [
    "species['is_plant'] = species.category.str.contains(r\"\\bVascular Plant\\b\", regex = True)"
   ],
   "metadata": {
    "collapsed": false,
    "pycharm": {
     "name": "#%%\n"
    }
   }
  },
  {
   "cell_type": "code",
   "execution_count": 177,
   "outputs": [
    {
     "data": {
      "text/plain": "                             park_name  observations\n0                  Bryce National Park        484373\n1  Great Smoky Mountains National Park        364882\n2            Yellowstone National Park       1218162\n3               Yosemite National Park        727895",
      "text/html": "<div>\n<style scoped>\n    .dataframe tbody tr th:only-of-type {\n        vertical-align: middle;\n    }\n\n    .dataframe tbody tr th {\n        vertical-align: top;\n    }\n\n    .dataframe thead th {\n        text-align: right;\n    }\n</style>\n<table border=\"1\" class=\"dataframe\">\n  <thead>\n    <tr style=\"text-align: right;\">\n      <th></th>\n      <th>park_name</th>\n      <th>observations</th>\n    </tr>\n  </thead>\n  <tbody>\n    <tr>\n      <th>0</th>\n      <td>Bryce National Park</td>\n      <td>484373</td>\n    </tr>\n    <tr>\n      <th>1</th>\n      <td>Great Smoky Mountains National Park</td>\n      <td>364882</td>\n    </tr>\n    <tr>\n      <th>2</th>\n      <td>Yellowstone National Park</td>\n      <td>1218162</td>\n    </tr>\n    <tr>\n      <th>3</th>\n      <td>Yosemite National Park</td>\n      <td>727895</td>\n    </tr>\n  </tbody>\n</table>\n</div>"
     },
     "execution_count": 177,
     "metadata": {},
     "output_type": "execute_result"
    }
   ],
   "source": [
    "plant_observations = observations.merge(species[species.is_plant])\n",
    "plant_observations.groupby('park_name').observations.sum().reset_index()"
   ],
   "metadata": {
    "collapsed": false,
    "pycharm": {
     "name": "#%%\n"
    }
   }
  },
  {
   "cell_type": "code",
   "execution_count": 180,
   "outputs": [
    {
     "data": {
      "text/plain": "                             park_name  is_protected  observations\n0                  Bryce National Park         False        480175\n1                  Bryce National Park          True          4198\n2  Great Smoky Mountains National Park         False        361932\n3  Great Smoky Mountains National Park          True          2950\n4            Yellowstone National Park         False       1208446\n5            Yellowstone National Park          True          9716\n6               Yosemite National Park         False        721910\n7               Yosemite National Park          True          5985",
      "text/html": "<div>\n<style scoped>\n    .dataframe tbody tr th:only-of-type {\n        vertical-align: middle;\n    }\n\n    .dataframe tbody tr th {\n        vertical-align: top;\n    }\n\n    .dataframe thead th {\n        text-align: right;\n    }\n</style>\n<table border=\"1\" class=\"dataframe\">\n  <thead>\n    <tr style=\"text-align: right;\">\n      <th></th>\n      <th>park_name</th>\n      <th>is_protected</th>\n      <th>observations</th>\n    </tr>\n  </thead>\n  <tbody>\n    <tr>\n      <th>0</th>\n      <td>Bryce National Park</td>\n      <td>False</td>\n      <td>480175</td>\n    </tr>\n    <tr>\n      <th>1</th>\n      <td>Bryce National Park</td>\n      <td>True</td>\n      <td>4198</td>\n    </tr>\n    <tr>\n      <th>2</th>\n      <td>Great Smoky Mountains National Park</td>\n      <td>False</td>\n      <td>361932</td>\n    </tr>\n    <tr>\n      <th>3</th>\n      <td>Great Smoky Mountains National Park</td>\n      <td>True</td>\n      <td>2950</td>\n    </tr>\n    <tr>\n      <th>4</th>\n      <td>Yellowstone National Park</td>\n      <td>False</td>\n      <td>1208446</td>\n    </tr>\n    <tr>\n      <th>5</th>\n      <td>Yellowstone National Park</td>\n      <td>True</td>\n      <td>9716</td>\n    </tr>\n    <tr>\n      <th>6</th>\n      <td>Yosemite National Park</td>\n      <td>False</td>\n      <td>721910</td>\n    </tr>\n    <tr>\n      <th>7</th>\n      <td>Yosemite National Park</td>\n      <td>True</td>\n      <td>5985</td>\n    </tr>\n  </tbody>\n</table>\n</div>"
     },
     "execution_count": 180,
     "metadata": {},
     "output_type": "execute_result"
    }
   ],
   "source": [
    "obs_plant_by_park = plant_observations.groupby(['park_name', 'is_protected']).observations.sum().reset_index()\n",
    "obs_plant_by_park"
   ],
   "metadata": {
    "collapsed": false,
    "pycharm": {
     "name": "#%%\n"
    }
   }
  },
  {
   "cell_type": "code",
   "execution_count": 182,
   "outputs": [
    {
     "data": {
      "text/plain": "<Figure size 1152x288 with 1 Axes>",
      "image/png": "[encoded data removed]"
     },
     "metadata": {
      "needs_background": "light"
     },
     "output_type": "display_data"
    }
   ],
   "source": [
    "plt.figure(figsize=(16, 4))\n",
    "sns.barplot(x=obs_plant_by_park.park_name, y= obs_plant_by_park.observations, hue=obs_plant_by_park.is_protected)\n",
    "plt.xlabel('National Parks')\n",
    "plt.ylabel('Number of Observations')\n",
    "plt.title('Observations of Plants per Week')\n",
    "plt.show()"
   ],
   "metadata": {
    "collapsed": false,
    "pycharm": {
     "name": "#%%\n"
    }
   }
  },
  {
   "cell_type": "markdown",
   "source": [
    "# Conclusion"
   ],
   "metadata": {
    "collapsed": false,
    "pycharm": {
     "name": "#%% md\n"
    }
   }
  },
  {
   "cell_type": "markdown",
   "source": [
    "In this project we create some hypothesis tests and plot that give us information about protection different kinds of categories of animals.\n",
    "By this information we can say:\n",
    " - we have big significant difference between different kinds of animals.\n",
    " - most of kinds of animals are not protected\n",
    " - we create bar plots that tell us differents between populations and protection different kinds of animals in different parks."
   ],
   "metadata": {
    "collapsed": false,
    "pycharm": {
     "name": "#%% md\n"
    }
   }
  },
  {
   "cell_type": "markdown",
   "source": [
    "In the last bars we can see big difference between protected and non protected categories (birds and plants). We can say that this categories have a big population in general."
   ],
   "metadata": {
    "collapsed": false,
    "pycharm": {
     "name": "#%% md\n"
    }
   }
  }
 ],
 "metadata": {
  "kernelspec": {
   "display_name": "Python 3",
   "language": "python",
   "name": "python3"
  },
  "language_info": {
   "codemirror_mode": {
    "name": "ipython",
    "version": 3
   },
   "file_extension": ".py",
   "mimetype": "text/x-python",
   "name": "python",
   "nbconvert_exporter": "python",
   "pygments_lexer": "ipython3",
   "version": "3.7.1"
  }
 },
 "nbformat": 4,
 "nbformat_minor": 2
}