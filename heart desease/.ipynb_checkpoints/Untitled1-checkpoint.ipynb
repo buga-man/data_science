{
 "cells": [
  {
   "cell_type": "code",
   "execution_count": 1,
   "id": "0b166ea3",
   "metadata": {},
   "outputs": [],
   "source": [
    "from sklearn.datasets import load_boston\n",
    "import mglearn\n",
    "boston = load_boston()"
   ]
  },
  {
   "cell_type": "code",
   "execution_count": 2,
   "id": "db148385",
   "metadata": {},
   "outputs": [
    {
     "name": "stdout",
     "output_type": "stream",
     "text": [
      "форма массива data для набора boston: (506, 13)\n"
     ]
    }
   ],
   "source": [
    "print(\"форма массива data для набора boston: {}\".format(boston.data.shape))"
   ]
  },
  {
   "cell_type": "code",
   "execution_count": 3,
   "id": "b72e7f9f",
   "metadata": {},
   "outputs": [
    {
     "name": "stdout",
     "output_type": "stream",
     "text": [
      "форма массива X: (506, 104)\n"
     ]
    }
   ],
   "source": [
    "X, y = mglearn.datasets.load_extended_boston()\n",
    "print(\"форма массива X: {}\".format(X.shape))"
   ]
  },
  {
   "cell_type": "code",
   "execution_count": 4,
   "id": "b8705175",
   "metadata": {},
   "outputs": [],
   "source": [
    "from sklearn.linear_model import LinearRegression\n",
    "from sklearn.model_selection import train_test_split\n",
    "X_train, X_test, y_train, y_test = train_test_split(X, y, random_state=42)"
   ]
  },
  {
   "cell_type": "code",
   "execution_count": 6,
   "id": "b27c9ae5",
   "metadata": {
    "scrolled": true
   },
   "outputs": [
    {
     "name": "stdout",
     "output_type": "stream",
     "text": [
      "lr.coef_: [-5.11126504e+02  4.02559787e+00 -9.45778613e+01  1.34720251e+01\n",
      "  3.48176257e+01  6.03611391e+01  3.49707471e+01  2.94114542e+00\n",
      "  3.14525465e+00  8.20792132e+01  1.24254396e+01  3.86676075e+01\n",
      " -9.38409521e-01  1.32936334e+01  7.60317098e+02  1.42274855e+03\n",
      "  2.29220565e+02 -7.79405429e+01  8.79429261e+01  1.39813973e+01\n",
      "  1.02565346e+02  7.52178879e+02 -1.82071934e+03  5.34143172e+02\n",
      " -2.41122305e+01  1.11848898e+02 -4.38177813e+00 -1.23079894e+01\n",
      " -3.63360790e+00 -5.64878037e+01  4.60395879e-01  8.18005986e+00\n",
      " -2.06294404e+01 -3.49659791e+01  4.31717988e+01 -2.92220843e+00\n",
      "  1.45250942e+01 -3.24346333e+01  3.66984591e+01 -2.75859278e+00\n",
      "  6.27805740e+00  4.98379104e+01  6.55060318e+00  3.91047481e+01\n",
      " -1.14826290e+01 -8.00990322e-01 -3.68662287e+00  3.36483260e+01\n",
      " -1.49103502e+01  1.34720251e+01 -1.80244019e+01 -2.90956806e+01\n",
      " -2.78115796e+00 -1.10315060e+01  1.15584830e+00 -8.37313259e-01\n",
      " -7.89905136e+00  6.27950290e+00 -1.09538327e+01 -2.48389637e+01\n",
      " -1.16316264e+01 -3.00228631e+00  6.83518378e+01 -1.76428626e+01\n",
      "  6.10371772e+01 -6.12936496e+01 -1.14748321e+01  2.09075528e+01\n",
      "  3.32421356e+01 -4.11743268e+01 -2.19312422e+01 -2.08881337e+01\n",
      " -5.05858326e+01 -2.14714962e+01 -1.11593182e+01 -6.16458839e-01\n",
      " -1.12569338e+00 -1.40290786e-01  3.17622544e+01 -2.57159897e+01\n",
      "  5.51837314e-01 -1.33768644e+01 -3.25170630e+01  5.20806824e+01\n",
      "  1.08614313e-01 -3.62670514e+01 -2.68217433e+01 -3.42720513e+01\n",
      "  1.41341012e+01 -6.56371258e+01  8.64151127e+01 -3.08281756e+01\n",
      "  3.61562583e+01 -2.56736318e+01 -1.69118913e+01  3.35683331e+01\n",
      " -7.48792540e+01 -2.02885460e+01  3.35543349e+00  1.07705825e+01\n",
      "  3.50306579e+00 -5.10021527e+00  2.46929457e+00  2.55749022e+01]\n",
      "lr.intercept_: -34.70752210387189\n"
     ]
    }
   ],
   "source": [
    "lr = LinearRegression().fit(X_train, y_train)\n",
    "print(\"lr.coef_: {}\".format(lr.coef_)) \n",
    "print(\"lr.intercept_: {}\".format(lr.intercept_))"
   ]
  },
  {
   "cell_type": "code",
   "execution_count": 7,
   "id": "d342ef7c",
   "metadata": {},
   "outputs": [
    {
     "name": "stdout",
     "output_type": "stream",
     "text": [
      "Правильность на обучающем наборе: 0.94\n",
      "Правильность на тестовом наборе: 0.78\n"
     ]
    }
   ],
   "source": [
    "print(\"Правильность на обучающем наборе: {:.2f}\".format(lr.score(X_train, y_train)))\n",
    "print(\"Правильность на тестовом наборе: {:.2f}\".format(lr.score(X_test, y_test)))"
   ]
  },
  {
   "cell_type": "code",
   "execution_count": 9,
   "id": "07c43f6d",
   "metadata": {},
   "outputs": [],
   "source": [
    "from sklearn.preprocessing import StandardScaler"
   ]
  },
  {
   "cell_type": "code",
   "execution_count": 13,
   "id": "9b452cd1",
   "metadata": {},
   "outputs": [],
   "source": [
    "scaler = StandardScaler()\n",
    "scaler.fit(X_train)\n",
    "stand_X = scaler.transform(X_train)\n",
    "stand_X_test=scaler.transform(X_test)"
   ]
  },
  {
   "cell_type": "code",
   "execution_count": 14,
   "id": "c84ee88e",
   "metadata": {},
   "outputs": [],
   "source": [
    "lr_stand = LinearRegression().fit(stand_X, y_train)"
   ]
  },
  {
   "cell_type": "code",
   "execution_count": 16,
   "id": "94f96f7b",
   "metadata": {},
   "outputs": [
    {
     "name": "stdout",
     "output_type": "stream",
     "text": [
      "Правильность на обучающем наборе: 0.94\n",
      "Правильность на тестовом наборе: 0.78\n"
     ]
    }
   ],
   "source": [
    "print(\"Правильность на обучающем наборе: {:.2f}\".format(lr_stand.score(stand_X, y_train)))\n",
    "print(\"Правильность на тестовом наборе: {:.2f}\".format(lr_stand.score(stand_X_test, y_test)))"
   ]
  },
  {
   "cell_type": "markdown",
   "id": "4f807469",
   "metadata": {},
   "source": [
    "стандартизация значений не влияет на качество модели"
   ]
  },
  {
   "cell_type": "code",
   "execution_count": 19,
   "id": "3c3b7c75",
   "metadata": {},
   "outputs": [
    {
     "name": "stdout",
     "output_type": "stream",
     "text": [
      "Правильность на обучающем наборе: 0.87\n",
      "Правильность на тестовом наборе: 0.81\n"
     ]
    }
   ],
   "source": [
    "from sklearn.linear_model import Ridge\n",
    "ridge = Ridge()\n",
    "ridge.fit(X_train, y_train)\n",
    "print(\"Правильность на обучающем наборе: {:.2f}\".format(ridge.score(X_train, y_train))) \n",
    "print(\"Правильность на тестовом наборе: {:.2f}\".format(ridge.score(X_test, y_test)))"
   ]
  },
  {
   "cell_type": "markdown",
   "id": "587650ed",
   "metadata": {},
   "source": [
    "применение гребневой линейной модели позволяет добится хорошего эффекта на нашем наборе данных. Отличие от стандартной линейной модели заключается в том, что мы используем так называемую L2 регуляризацию. Регуляризация старается приблизить все параметры к нулю, тем самым добиваясь большего контроля модели, что влечет за собой уменшение качества работы на тренировочном наборе данных (позволяет уменьшить переобучение) и увеличить обобщающую способность модели (улучшить работу на тестовых данных)\n"
   ]
  },
  {
   "cell_type": "code",
   "execution_count": 20,
   "id": "7b393525",
   "metadata": {},
   "outputs": [],
   "source": [
    "from sklearn.model_selection import GridSearchCV\n",
    "params = {'alpha': [0.001, 0.01, 0.1, 1, 10,100, 1000]}\n",
    "ridge_cv = GridSearchCV(ridge, params, cv = 10)"
   ]
  },
  {
   "cell_type": "code",
   "execution_count": 22,
   "id": "893139b8",
   "metadata": {},
   "outputs": [
    {
     "data": {
      "text/plain": [
       "GridSearchCV(cv=10, estimator=Ridge(),\n",
       "             param_grid={'alpha': [0.001, 0.01, 0.1, 1, 10, 100, 1000]})"
      ]
     },
     "execution_count": 22,
     "metadata": {},
     "output_type": "execute_result"
    }
   ],
   "source": [
    "ridge_cv.fit(X_train, y_train)"
   ]
  },
  {
   "cell_type": "code",
   "execution_count": 23,
   "id": "c3156026",
   "metadata": {},
   "outputs": [
    {
     "data": {
      "text/plain": [
       "0.8542427084080815"
      ]
     },
     "execution_count": 23,
     "metadata": {},
     "output_type": "execute_result"
    }
   ],
   "source": [
    "ridge_cv.best_score_"
   ]
  },
  {
   "cell_type": "code",
   "execution_count": 24,
   "id": "6adcabba",
   "metadata": {},
   "outputs": [
    {
     "data": {
      "text/plain": [
       "{'alpha': 0.1}"
      ]
     },
     "execution_count": 24,
     "metadata": {},
     "output_type": "execute_result"
    }
   ],
   "source": [
    "ridge_cv.best_params_"
   ]
  },
  {
   "cell_type": "markdown",
   "id": "6225238f",
   "metadata": {},
   "source": [
    "главным гиперпараметром явялется. значение альфа. Чем больше альфа, тем сильнее сжимаются значения. Применив кросс-проверку мы нашли, что лучшим параметром является 0.1"
   ]
  },
  {
   "cell_type": "markdown",
   "id": "c086c80a",
   "metadata": {},
   "source": [
    "используем вариант регуляризации такой, как лассо. Лассо использует L1 регуляризацию. это означает, что Коэффициенты также сжимаются и некоторые из них становятся равными 0. Некоторые признаки просто убираются."
   ]
  },
  {
   "cell_type": "code",
   "execution_count": 30,
   "id": "0c58b070",
   "metadata": {},
   "outputs": [],
   "source": [
    "from sklearn.linear_model import Lasso\n",
    "lasso = Lasso()\n",
    "lasso_cv = GridSearchCV(lasso, params, cv=10)"
   ]
  },
  {
   "cell_type": "code",
   "execution_count": 31,
   "id": "98d1fbe3",
   "metadata": {},
   "outputs": [
    {
     "name": "stderr",
     "output_type": "stream",
     "text": [
      "/Users/bugaev/opt/anaconda3/lib/python3.9/site-packages/sklearn/linear_model/_coordinate_descent.py:530: ConvergenceWarning: Objective did not converge. You might want to increase the number of iterations. Duality gap: 790.4131064841911, tolerance: 3.055030340175953\n",
      "  model = cd_fast.enet_coordinate_descent(\n",
      "/Users/bugaev/opt/anaconda3/lib/python3.9/site-packages/sklearn/linear_model/_coordinate_descent.py:530: ConvergenceWarning: Objective did not converge. You might want to increase the number of iterations. Duality gap: 802.5610125713355, tolerance: 3.0102712140762464\n",
      "  model = cd_fast.enet_coordinate_descent(\n",
      "/Users/bugaev/opt/anaconda3/lib/python3.9/site-packages/sklearn/linear_model/_coordinate_descent.py:530: ConvergenceWarning: Objective did not converge. You might want to increase the number of iterations. Duality gap: 837.2084195883768, tolerance: 2.9189065806451615\n",
      "  model = cd_fast.enet_coordinate_descent(\n",
      "/Users/bugaev/opt/anaconda3/lib/python3.9/site-packages/sklearn/linear_model/_coordinate_descent.py:530: ConvergenceWarning: Objective did not converge. You might want to increase the number of iterations. Duality gap: 782.4566485418704, tolerance: 3.1078980645161294\n",
      "  model = cd_fast.enet_coordinate_descent(\n",
      "/Users/bugaev/opt/anaconda3/lib/python3.9/site-packages/sklearn/linear_model/_coordinate_descent.py:530: ConvergenceWarning: Objective did not converge. You might want to increase the number of iterations. Duality gap: 887.831317931449, tolerance: 2.937074903225807\n",
      "  model = cd_fast.enet_coordinate_descent(\n",
      "/Users/bugaev/opt/anaconda3/lib/python3.9/site-packages/sklearn/linear_model/_coordinate_descent.py:530: ConvergenceWarning: Objective did not converge. You might want to increase the number of iterations. Duality gap: 834.362913022511, tolerance: 2.9869597595307917\n",
      "  model = cd_fast.enet_coordinate_descent(\n",
      "/Users/bugaev/opt/anaconda3/lib/python3.9/site-packages/sklearn/linear_model/_coordinate_descent.py:530: ConvergenceWarning: Objective did not converge. You might want to increase the number of iterations. Duality gap: 735.9587561832728, tolerance: 2.929860539589443\n",
      "  model = cd_fast.enet_coordinate_descent(\n",
      "/Users/bugaev/opt/anaconda3/lib/python3.9/site-packages/sklearn/linear_model/_coordinate_descent.py:530: ConvergenceWarning: Objective did not converge. You might want to increase the number of iterations. Duality gap: 726.9612857740846, tolerance: 3.1041314076246334\n",
      "  model = cd_fast.enet_coordinate_descent(\n",
      "/Users/bugaev/opt/anaconda3/lib/python3.9/site-packages/sklearn/linear_model/_coordinate_descent.py:530: ConvergenceWarning: Objective did not converge. You might want to increase the number of iterations. Duality gap: 782.5268106687647, tolerance: 3.1090250615835777\n",
      "  model = cd_fast.enet_coordinate_descent(\n",
      "/Users/bugaev/opt/anaconda3/lib/python3.9/site-packages/sklearn/linear_model/_coordinate_descent.py:530: ConvergenceWarning: Objective did not converge. You might want to increase the number of iterations. Duality gap: 751.4212668089409, tolerance: 3.081026997076023\n",
      "  model = cd_fast.enet_coordinate_descent(\n",
      "/Users/bugaev/opt/anaconda3/lib/python3.9/site-packages/sklearn/linear_model/_coordinate_descent.py:530: ConvergenceWarning: Objective did not converge. You might want to increase the number of iterations. Duality gap: 18.494822541379108, tolerance: 3.055030340175953\n",
      "  model = cd_fast.enet_coordinate_descent(\n",
      "/Users/bugaev/opt/anaconda3/lib/python3.9/site-packages/sklearn/linear_model/_coordinate_descent.py:530: ConvergenceWarning: Objective did not converge. You might want to increase the number of iterations. Duality gap: 4.135392442421107, tolerance: 3.0102712140762464\n",
      "  model = cd_fast.enet_coordinate_descent(\n",
      "/Users/bugaev/opt/anaconda3/lib/python3.9/site-packages/sklearn/linear_model/_coordinate_descent.py:530: ConvergenceWarning: Objective did not converge. You might want to increase the number of iterations. Duality gap: 9.881714030499552, tolerance: 3.1078980645161294\n",
      "  model = cd_fast.enet_coordinate_descent(\n",
      "/Users/bugaev/opt/anaconda3/lib/python3.9/site-packages/sklearn/linear_model/_coordinate_descent.py:530: ConvergenceWarning: Objective did not converge. You might want to increase the number of iterations. Duality gap: 8.286166890653021, tolerance: 2.937074903225807\n",
      "  model = cd_fast.enet_coordinate_descent(\n",
      "/Users/bugaev/opt/anaconda3/lib/python3.9/site-packages/sklearn/linear_model/_coordinate_descent.py:530: ConvergenceWarning: Objective did not converge. You might want to increase the number of iterations. Duality gap: 3.3130108569275762, tolerance: 2.9869597595307917\n",
      "  model = cd_fast.enet_coordinate_descent(\n",
      "/Users/bugaev/opt/anaconda3/lib/python3.9/site-packages/sklearn/linear_model/_coordinate_descent.py:530: ConvergenceWarning: Objective did not converge. You might want to increase the number of iterations. Duality gap: 7.8354023090741975, tolerance: 2.929860539589443\n",
      "  model = cd_fast.enet_coordinate_descent(\n",
      "/Users/bugaev/opt/anaconda3/lib/python3.9/site-packages/sklearn/linear_model/_coordinate_descent.py:530: ConvergenceWarning: Objective did not converge. You might want to increase the number of iterations. Duality gap: 4.646982011734053, tolerance: 3.1041314076246334\n",
      "  model = cd_fast.enet_coordinate_descent(\n",
      "/Users/bugaev/opt/anaconda3/lib/python3.9/site-packages/sklearn/linear_model/_coordinate_descent.py:530: ConvergenceWarning: Objective did not converge. You might want to increase the number of iterations. Duality gap: 13.91958977528384, tolerance: 3.1090250615835777\n",
      "  model = cd_fast.enet_coordinate_descent(\n",
      "/Users/bugaev/opt/anaconda3/lib/python3.9/site-packages/sklearn/linear_model/_coordinate_descent.py:530: ConvergenceWarning: Objective did not converge. You might want to increase the number of iterations. Duality gap: 11.586243026661123, tolerance: 3.081026997076023\n",
      "  model = cd_fast.enet_coordinate_descent(\n",
      "/Users/bugaev/opt/anaconda3/lib/python3.9/site-packages/sklearn/linear_model/_coordinate_descent.py:530: ConvergenceWarning: Objective did not converge. You might want to increase the number of iterations. Duality gap: 864.3796550249897, tolerance: 3.361037625329815\n",
      "  model = cd_fast.enet_coordinate_descent(\n"
     ]
    },
    {
     "data": {
      "text/plain": [
       "GridSearchCV(cv=10, estimator=Lasso(),\n",
       "             param_grid={'alpha': [0.001, 0.01, 0.1, 1, 10, 100, 1000]})"
      ]
     },
     "execution_count": 31,
     "metadata": {},
     "output_type": "execute_result"
    }
   ],
   "source": [
    "lasso_cv.fit(X_train, y_train)"
   ]
  },
  {
   "cell_type": "code",
   "execution_count": 33,
   "id": "5a77840d",
   "metadata": {},
   "outputs": [
    {
     "data": {
      "text/plain": [
       "0.8466259139160159"
      ]
     },
     "execution_count": 33,
     "metadata": {},
     "output_type": "execute_result"
    }
   ],
   "source": [
    "lasso_cv.best_score_"
   ]
  },
  {
   "cell_type": "code",
   "execution_count": 34,
   "id": "cec97718",
   "metadata": {},
   "outputs": [
    {
     "data": {
      "text/plain": [
       "{'alpha': 0.1}"
      ]
     },
     "execution_count": 34,
     "metadata": {},
     "output_type": "execute_result"
    }
   ],
   "source": [
    "ridge_cv.best_params_"
   ]
  },
  {
   "cell_type": "code",
   "execution_count": 35,
   "id": "6a58eec3",
   "metadata": {},
   "outputs": [],
   "source": []
  }
 ],
 "metadata": {
  "kernelspec": {
   "display_name": "Python 3 (ipykernel)",
   "language": "python",
   "name": "python3"
  },
  "language_info": {
   "codemirror_mode": {
    "name": "ipython",
    "version": 3
   },
   "file_extension": ".py",
   "mimetype": "text/x-python",
   "name": "python",
   "nbconvert_exporter": "python",
   "pygments_lexer": "ipython3",
   "version": "3.9.7"
  }
 },
 "nbformat": 4,
 "nbformat_minor": 5
}
