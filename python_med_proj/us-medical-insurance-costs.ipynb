{
 "cells": [
  {
   "cell_type": "markdown",
   "metadata": {},
   "source": [
    "# U.S. Medical Insurance Costs"
   ]
  },
  {
   "cell_type": "code",
   "execution_count": 3,
   "metadata": {},
   "outputs": [],
   "source": [
    "# import csv library\n",
    "import csv\n"
   ]
  },
  {
   "cell_type": "markdown",
   "metadata": {},
   "source": [
    "создадим словарь для каждой строки"
   ]
  },
  {
   "cell_type": "code",
   "execution_count": 81,
   "metadata": {},
   "outputs": [],
   "source": [
    "dict_of_csv =[]\n",
    "ages =[]\n",
    "sexes = []\n",
    "bmis = []\n",
    "num_children = []\n",
    "smoker_statuses = []\n",
    "regions = []\n",
    "charges = []\n",
    "with open('insurance.csv') as insurance_file:\n",
    "    dict_csv = csv.DictReader(insurance_file) \n",
    "    for row in dict_csv:\n",
    "        dict_of_csv.append(row)  \n",
    "        ages.append(int(row['age'])) \n",
    "        sexes.append(row['sex'])\n",
    "        bmis.append(float(row['bmi']))\n",
    "        num_children.append(int(row['children']))\n",
    "        smoker_statuses.append(row['smoker'])\n",
    "        regions.append(row['region'])\n",
    "        charges.append(float(row['charges']))\n",
    "len_dict = len(dict_of_csv)\n"
   ]
  },
  {
   "cell_type": "markdown",
   "metadata": {},
   "source": [
    "создаем класс для работы с данными\n"
   ]
  },
  {
   "cell_type": "code",
   "execution_count": 410,
   "metadata": {},
   "outputs": [],
   "source": [
    "class info:\n",
    "    def __init__(self, ages, sexes, bmis, num_children, smoker_statuses, regions,charges):\n",
    "        self.ages = ages\n",
    "        self.sexes = sexes\n",
    "        self.bmis = bmis\n",
    "        self.num_children = num_children\n",
    "        self.smoker_statuses = smoker_statuses\n",
    "        self.regions = regions\n",
    "        self.charges = charges\n",
    "        \n",
    "    def analyze_ages(self): \n",
    "        total_age = 0\n",
    "        for age in self.ages:\n",
    "            total_age += int(age)\n",
    "        return (\"Average Patient Age: \" + str(round(total_age/len(self.ages), 2)) + \" years\")\n",
    "    \n",
    "    def analyze_sexes(self): \n",
    "        females = 0\n",
    "        males = 0\n",
    "        for sex in self.sexes:\n",
    "            if sex == 'female':\n",
    "                females += 1\n",
    "            elif sex == 'male':\n",
    "                males += 1\n",
    "        print(\"Count for female: \", females)\n",
    "        print(\"Count for male: \", males)\n",
    "        print(f\"percent of male: {(males/(females+males))*100}%\")\n",
    "        \n",
    "    def analyze_smokers(self):\n",
    "        smokers = 0\n",
    "        no_smokers = 0\n",
    "        for smoke in self.smoker_statuses:\n",
    "            if smoke == \"yes\":\n",
    "                smokers += 1\n",
    "            else:\n",
    "                no_smokers +=1\n",
    "        perc_smokers = (smokers/(smokers+no_smokers))*100\n",
    "        print(f\"smokers: {smokers}\")\n",
    "        print(f\"no smokers: {no_smokers}\")\n",
    "        print(f\"percent of smokers: {perc_smokers}%\")\n",
    "        \n",
    "    def uniq_regions(self):\n",
    "        uniq_regions = []\n",
    "        for item in self.regions:\n",
    "            if item not in uniq_regions:\n",
    "                uniq_regions.append(item)\n",
    "        return uniq_regions\n",
    "    \n",
    "    def count_regions(self, region):\n",
    "        count = 0\n",
    "        for item in self.regions:\n",
    "            if item == region:\n",
    "                count += 1\n",
    "        perc_count = (count/len(self.regions)) * 100\n",
    "        print(f\"{region} counts {count} times, this is {perc_count}% of all regions\")\n",
    "        \n",
    "        \n",
    "    \n",
    "    def count_children(self, min, max):\n",
    "        count = 0\n",
    "        for item in self.num_children:\n",
    "            if item >= min and item <= max:\n",
    "                count += 1\n",
    "        perc_count = count/len(self.num_children) * 100\n",
    "        print(f\"persons with {min} - {max} children : {count} \\n percentage of all persons {perc_count}\")\n",
    "        \n",
    "    def average_charges(self):\n",
    "        \n",
    "        total_charges = 0\n",
    "       \n",
    "        for charge in self.charges:\n",
    "            total_charges += float(charge)\n",
    "        \n",
    "        return total_charges/len(self.charges)\n",
    "        \n",
    "    def charge_smoke(self):\n",
    "        charges_smokers_total = 0\n",
    "        count =0\n",
    "        for i,c in zip(self.smoker_statuses, self.charges):\n",
    "            if i == \"yes\":\n",
    "                charges_smokers_total += c \n",
    "                count +=1\n",
    "        return charges_smokers_total / count\n",
    "    \n",
    "    def charge_ages(self, min, max):\n",
    "        charges_count = 0\n",
    "        count = 0\n",
    "        for age, charge in zip(self.ages, self.charges):\n",
    "            if age >= min and age <= max:\n",
    "                count += 1\n",
    "                charges_count +=charge\n",
    "        return charges_count / count\n",
    "    \n",
    "    def charge_children(self, min, max):\n",
    "        charges_count = 0\n",
    "        count = 0\n",
    "        for child, charge in zip(self.num_children, self.charges):\n",
    "            if child >= min and child <= max:\n",
    "                count += 1\n",
    "                charges_count +=charge\n",
    "        return charges_count / count\n",
    "            \n",
    "    def dict_charge_ages(self):\n",
    "        yang = self.charge_ages(19, 29)\n",
    "        middle = self.charge_ages(30, 39)\n",
    "        adult = self.charge_ages(40, 49)\n",
    "        old = self.charge_ages(50, 59)\n",
    "        very_old = self.charge_ages(60, 209)\n",
    "        return [yang, middle, adult, old, very_old]\n",
    "    \n",
    "    def dict_child(self):\n",
    "        print(max(self.num_children))\n",
    "        yang = self.charge_children(0, 0)\n",
    "        middle = self.charge_children(1, 2)\n",
    "        adult = self.charge_children(3, 4)\n",
    "        old = self.charge_children(5, 6)\n",
    "    \n",
    "        return [yang, middle, adult, old]\n",
    "        "
   ]
  },
  {
   "cell_type": "code",
   "execution_count": 411,
   "metadata": {},
   "outputs": [],
   "source": [
    "info_persons = info(ages, sexes, bmis, num_children, smoker_statuses, regions, charges)"
   ]
  },
  {
   "cell_type": "markdown",
   "metadata": {},
   "source": [
    "найдем средний возраст пациентов:"
   ]
  },
  {
   "cell_type": "code",
   "execution_count": 412,
   "metadata": {},
   "outputs": [
    {
     "name": "stdout",
     "output_type": "stream",
     "text": [
      "Average Patient Age: 39.21 years\n"
     ]
    }
   ],
   "source": [
    "av_ages = info_persons.analyze_ages()\n",
    "print(av_ages)"
   ]
  },
  {
   "cell_type": "markdown",
   "metadata": {},
   "source": [
    "найдем количество женщин и количество мужчин, а также процент мужчин"
   ]
  },
  {
   "cell_type": "code",
   "execution_count": 413,
   "metadata": {},
   "outputs": [
    {
     "name": "stdout",
     "output_type": "stream",
     "text": [
      "Count for female:  662\n",
      "Count for male:  676\n",
      "percent of male: 50.52316890881914%\n"
     ]
    }
   ],
   "source": [
    "sex = info_persons.analyze_sexes()"
   ]
  },
  {
   "cell_type": "markdown",
   "metadata": {},
   "source": [
    "надйем количество курящих, некурящих, а также процент курящих от общего количества"
   ]
  },
  {
   "cell_type": "code",
   "execution_count": 414,
   "metadata": {},
   "outputs": [
    {
     "name": "stdout",
     "output_type": "stream",
     "text": [
      "smokers: 274\n",
      "no smokers: 1064\n",
      "percent of smokers: 20.47832585949178%\n"
     ]
    }
   ],
   "source": [
    "smokers = info_persons.analyze_smokers()"
   ]
  },
  {
   "cell_type": "markdown",
   "metadata": {},
   "source": [
    "определеим все уникальные рагионы"
   ]
  },
  {
   "cell_type": "code",
   "execution_count": 415,
   "metadata": {},
   "outputs": [
    {
     "name": "stdout",
     "output_type": "stream",
     "text": [
      "['southwest', 'southeast', 'northwest', 'northeast']\n"
     ]
    }
   ],
   "source": [
    "print(info_persons.uniq_regions())"
   ]
  },
  {
   "cell_type": "markdown",
   "metadata": {},
   "source": [
    "определеим частотность выбранного региона"
   ]
  },
  {
   "cell_type": "code",
   "execution_count": 416,
   "metadata": {},
   "outputs": [
    {
     "name": "stdout",
     "output_type": "stream",
     "text": [
      "northwest counts 325 times, this is 24.28998505231689% of all regions\n"
     ]
    }
   ],
   "source": [
    "info_persons.count_regions('northwest')"
   ]
  },
  {
   "cell_type": "code",
   "execution_count": 417,
   "metadata": {},
   "outputs": [
    {
     "name": "stdout",
     "output_type": "stream",
     "text": [
      "persons with 3 - 4 children : 182 \n",
      " percentage of all persons 13.602391629297458\n",
      "------\n",
      "persons with 0 - 0 children : 574 \n",
      " percentage of all persons 42.89985052316891\n",
      "----\n",
      "persons with 1 - 2 children : 564 \n",
      " percentage of all persons 42.152466367713004\n"
     ]
    }
   ],
   "source": [
    "info_persons.count_children(3, 4)\n",
    "print('------')\n",
    "info_persons.count_children(0, 0)\n",
    "print('----')\n",
    "info_persons.count_children(1, 2)"
   ]
  },
  {
   "cell_type": "markdown",
   "metadata": {},
   "source": [
    "средняя цена на здравоохранение у курящих:"
   ]
  },
  {
   "cell_type": "code",
   "execution_count": 418,
   "metadata": {},
   "outputs": [
    {
     "name": "stdout",
     "output_type": "stream",
     "text": [
      "32050.23183153285\n"
     ]
    }
   ],
   "source": [
    "avg_smoke_charge = info_persons.charge_smoke()\n",
    "print(avg_smoke_charge)"
   ]
  },
  {
   "cell_type": "markdown",
   "metadata": {},
   "source": [
    "средняя цена на здравоохранение"
   ]
  },
  {
   "cell_type": "code",
   "execution_count": 419,
   "metadata": {},
   "outputs": [
    {
     "name": "stdout",
     "output_type": "stream",
     "text": [
      "13270.422265141257\n"
     ]
    }
   ],
   "source": [
    "avg_charge = info_persons.average_charges()\n",
    "print(avg_charge)"
   ]
  },
  {
   "cell_type": "markdown",
   "metadata": {},
   "source": [
    "разница между затратами курящих и общими:"
   ]
  },
  {
   "cell_type": "code",
   "execution_count": 420,
   "metadata": {},
   "outputs": [
    {
     "name": "stdout",
     "output_type": "stream",
     "text": [
      "18779.809566391592\n"
     ]
    }
   ],
   "source": [
    "delta_smokers = avg_smoke_charge - avg_charge\n",
    "print(delta_smokers)"
   ]
  },
  {
   "cell_type": "markdown",
   "metadata": {},
   "source": [
    "среднее значени затрат на здравоохранение у лиц в возрасте от 19 до 26 лет:"
   ]
  },
  {
   "cell_type": "code",
   "execution_count": 421,
   "metadata": {},
   "outputs": [
    {
     "name": "stdout",
     "output_type": "stream",
     "text": [
      "9295.943147811322\n"
     ]
    }
   ],
   "source": [
    "avg_charge_19_26 = info_persons.charge_ages(19, 26)\n",
    "print(avg_charge_19_26)"
   ]
  },
  {
   "cell_type": "markdown",
   "metadata": {},
   "source": [
    "определение срадних затрат на медицину в зависимости от количества детей "
   ]
  },
  {
   "cell_type": "code",
   "execution_count": 422,
   "metadata": {},
   "outputs": [
    {
     "name": "stdout",
     "output_type": "stream",
     "text": [
      "15105.940017819914\n"
     ]
    }
   ],
   "source": [
    "avg_charge_2_4 = info_persons.charge_children(2,4)\n",
    "print(avg_charge_2_4)"
   ]
  },
  {
   "cell_type": "markdown",
   "metadata": {},
   "source": [
    "определение срадних затрат на медицину в зависимости от возраста"
   ]
  },
  {
   "cell_type": "code",
   "execution_count": 423,
   "metadata": {},
   "outputs": [
    {
     "name": "stdout",
     "output_type": "stream",
     "text": [
      "[9598.126781034485, 11738.784117354091, 14399.203563870966, 16495.232664981537, 21248.021884912272]\n"
     ]
    }
   ],
   "source": [
    "avg_charge_for_ages = info_persons.dict_charge_ages()\n",
    "print(avg_charge_for_ages)"
   ]
  },
  {
   "cell_type": "code",
   "execution_count": 424,
   "metadata": {},
   "outputs": [
    {
     "name": "stdout",
     "output_type": "stream",
     "text": [
      "5\n",
      "[12365.975601635882, 13727.934343262406, 15148.634018516477, 8786.035247222222]\n"
     ]
    }
   ],
   "source": [
    "avg_list_children = info_persons.dict_child()\n",
    "print(avg_list_children)"
   ]
  },
  {
   "cell_type": "code",
   "execution_count": null,
   "metadata": {},
   "outputs": [],
   "source": []
  },
  {
   "cell_type": "code",
   "execution_count": null,
   "metadata": {},
   "outputs": [],
   "source": []
  }
 ],
 "metadata": {
  "kernelspec": {
   "display_name": "Python 3 (ipykernel)",
   "language": "python",
   "name": "python3"
  },
  "language_info": {
   "codemirror_mode": {
    "name": "ipython",
    "version": 3
   },
   "file_extension": ".py",
   "mimetype": "text/x-python",
   "name": "python",
   "nbconvert_exporter": "python",
   "pygments_lexer": "ipython3",
   "version": "3.9.7"
  }
 },
 "nbformat": 4,
 "nbformat_minor": 4
}
